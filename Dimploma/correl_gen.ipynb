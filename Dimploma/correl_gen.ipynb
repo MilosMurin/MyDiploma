{
 "cells": [
  {
   "cell_type": "code",
   "id": "initial_id",
   "metadata": {
    "collapsed": true,
    "ExecuteTime": {
     "end_time": "2025-04-11T17:34:07.132485Z",
     "start_time": "2025-04-11T17:34:06.630005Z"
    }
   },
   "source": [
    "import torch\n",
    "\n",
    "import tr_util\n",
    "import util\n",
    "import pandas as pd\n",
    "import numpy as np\n",
    "import matplotlib.pyplot as plt\n",
    "from scipy.stats import pearsonr\n",
    "\n",
    "from Dimploma.EnvironmentTree import EnvInfo, MatrixEnvInfo, EnvMinimalTreeTwoStep\n",
    "from Dimploma.ppo_parallel_custom import Agent\n",
    "from Dimploma.utils.graph_provider import GraphProvider\n",
    "from Dimploma.utils.my_agent_base import RandomAgent\n",
    "from Dimploma.utils.testingResult import TestCorrelResult\n",
    "from zNetwork.my_gcn import GCN\n",
    "from zNetwork.fully_con import FCN\n",
    "from zNetwork.hybrid_gcn import HybridNetworkGlobal"
   ],
   "outputs": [],
   "execution_count": 47
  },
  {
   "metadata": {
    "ExecuteTime": {
     "end_time": "2025-04-11T17:19:07.313748Z",
     "start_time": "2025-04-11T17:19:07.158724Z"
    }
   },
   "cell_type": "code",
   "source": [
    "%load_ext autoreload\n",
    "%autoreload 2"
   ],
   "id": "f81a18d325a69931",
   "outputs": [],
   "execution_count": 2
  },
  {
   "metadata": {
    "ExecuteTime": {
     "end_time": "2025-04-11T17:24:26.201774Z",
     "start_time": "2025-04-11T17:24:26.044314Z"
    }
   },
   "cell_type": "code",
   "source": [
    "# Generate graphs of the given size\n",
    "node_amount = 100\n",
    "node_features = 2\n",
    "max_edge_amount = torch.sum(torch.arange(node_amount)).item()\n",
    "edge_amount = int(max_edge_amount*0.75)\n",
    "edge_features = 2\n",
    "# edge_features = None\n",
    "\n",
    "\n",
    "main_layers = 3\n",
    "main_lin_layers = 2\n",
    "p_layers = 2\n",
    "v_layers = 2\n",
    "\n",
    "use_argmax = True\n",
    "\n",
    "# if GCN\n",
    "use_catenation = False\n"
   ],
   "id": "e328c4c0bff82d57",
   "outputs": [],
   "execution_count": 16
  },
  {
   "metadata": {
    "ExecuteTime": {
     "end_time": "2025-04-11T17:24:28.589873Z",
     "start_time": "2025-04-11T17:24:26.739763Z"
    }
   },
   "cell_type": "code",
   "source": [
    "graph_provider = GraphProvider(nodes=node_amount, edges=edge_amount)\n",
    "\n",
    "graph_env = EnvMinimalTreeTwoStep(EnvInfo(graph_provider))\n",
    "matrix_env = EnvMinimalTreeTwoStep(MatrixEnvInfo(graph_provider, edge_info=True, node_info=True))"
   ],
   "id": "101717659db88cb1",
   "outputs": [],
   "execution_count": 17
  },
  {
   "metadata": {
    "ExecuteTime": {
     "end_time": "2025-04-11T17:24:29.180258Z",
     "start_time": "2025-04-11T17:24:28.596392Z"
    }
   },
   "cell_type": "code",
   "source": [
    "# Agents setup\n",
    "gcn_net = GCN(node_amount, node_features, use_catenation, main_layers, p_layers, v_layers, edge_dim=edge_features)\n",
    "matrix_net = FCN(node_amount, node_features, edge_amount, main_lin_layers, p_layers, v_layers, True, True)\n",
    "hybrid_net = HybridNetworkGlobal(node_features, node_amount, edge_dim=edge_features)\n",
    "\n",
    "gcn_agent = Agent(gcn_net, test=True)\n",
    "matrix_agent = Agent(matrix_net, test=True)\n",
    "hybrid_agent = Agent(hybrid_net, test=True)\n"
   ],
   "id": "57759e8b6e598014",
   "outputs": [],
   "execution_count": 18
  },
  {
   "metadata": {
    "ExecuteTime": {
     "end_time": "2025-04-11T17:24:29.336273Z",
     "start_time": "2025-04-11T17:24:29.196726Z"
    }
   },
   "cell_type": "code",
   "source": [
    "test_amount = 10\n",
    "# test_amount = 100\n",
    "graph_amount = 2\n",
    "# graph_amount = 10\n",
    "\n",
    "append = -1\n",
    "# append = 10\n",
    "\n",
    "\n",
    "tests = TestCorrelResult(node_amount, test_amount, graph_amount, append=append)\n",
    "\n",
    "random_uniform = RandomAgent()\n",
    "tests.addAgent('Random', random_uniform, 'red', multiple_tetst=True)\n",
    "tests.addAgent('GCN', gcn_agent, 'cyan', multiple_tetst=True)\n",
    "tests.addAgent('Matrix', matrix_agent, 'magenta', multiple_tetst=True, special=True)\n",
    "tests.addAgent('Hybrid', hybrid_agent, 'yellow', multiple_tetst=True)\n"
   ],
   "id": "21f9aa11791845e7",
   "outputs": [],
   "execution_count": 19
  },
  {
   "metadata": {
    "ExecuteTime": {
     "end_time": "2025-04-11T17:26:43.986662Z",
     "start_time": "2025-04-11T17:24:29.352945Z"
    }
   },
   "cell_type": "code",
   "source": [
    "tests.setup('actions')\n",
    "tests.test(graph_env, matrix_env)"
   ],
   "id": "4a9ba20720441d0a",
   "outputs": [
    {
     "name": "stdout",
     "output_type": "stream",
     "text": [
      "Started tests\n",
      "Graph 0------------------------------\n",
      "Started tests for agent Náhodný výber\n",
      "Finished all tests for agent Náhodný výber\n",
      "Started tests for agent GCN\n",
      "Finished all tests for agent GCN\n",
      "Started tests for agent Matrix\n",
      "Finished all tests for agent Matrix\n",
      "Started tests for agent Hybrid\n",
      "Finished all tests for agent Hybrid\n",
      "Finished 1 tests for all agents\n",
      "Graph 1------------------------------\n",
      "Started tests for agent Náhodný výber\n",
      "Finished all tests for agent Náhodný výber\n",
      "Started tests for agent GCN\n",
      "Finished all tests for agent GCN\n",
      "Started tests for agent Matrix\n",
      "Finished all tests for agent Matrix\n",
      "Started tests for agent Hybrid\n",
      "Finished all tests for agent Hybrid\n",
      "Finished 2 tests for all agents\n",
      "Ended tests\n"
     ]
    }
   ],
   "execution_count": 20
  },
  {
   "metadata": {
    "ExecuteTime": {
     "end_time": "2025-04-11T17:29:34.970249Z",
     "start_time": "2025-04-11T17:29:34.821158Z"
    }
   },
   "cell_type": "code",
   "source": [
    "default_path = 'results/correl/test_n100_t10'\n",
    "default_path"
   ],
   "id": "20bf03e53b707d81",
   "outputs": [
    {
     "data": {
      "text/plain": [
       "'results/correl/test_n100_t10'"
      ]
     },
     "execution_count": 24,
     "metadata": {},
     "output_type": "execute_result"
    }
   ],
   "execution_count": 24
  },
  {
   "metadata": {
    "ExecuteTime": {
     "end_time": "2025-04-11T17:29:45.984416Z",
     "start_time": "2025-04-11T17:29:45.822861Z"
    }
   },
   "cell_type": "code",
   "source": [
    "actions_gcn_df = pd.read_csv(f'{default_path}/gcn_actions.csv', index_col=0)\n",
    "actions_fcn_df = pd.read_csv(f'{default_path}/matrix_actions.csv', index_col=0)\n",
    "actions_hybrid_df = pd.read_csv(f'{default_path}/hybrid_actions.csv', index_col=0)\n",
    "actions_random_df = pd.read_csv(f'{default_path}/random_actions.csv', index_col=0)\n",
    "degrees_df = pd.read_csv(f'{default_path}/degrees.csv', index_col=0)\n",
    "degrees_df"
   ],
   "id": "409c767373e507a7",
   "outputs": [
    {
     "data": {
      "text/plain": [
       "        0   1   2   3   4   5   6   7   8   9  ...  90  91  92  93  94  95  \\\n",
       "graph                                          ...                           \n",
       "0      74  76  73  81  70  78  69  73  70  67  ...  80  75  71  72  73  82   \n",
       "1      79  71  77  79  79  80  76  76  79  72  ...  84  75  70  81  81  76   \n",
       "\n",
       "       96  97  98  99  \n",
       "graph                  \n",
       "0      69  75  78  76  \n",
       "1      74  76  78  69  \n",
       "\n",
       "[2 rows x 100 columns]"
      ],
      "text/html": [
       "<div>\n",
       "<style scoped>\n",
       "    .dataframe tbody tr th:only-of-type {\n",
       "        vertical-align: middle;\n",
       "    }\n",
       "\n",
       "    .dataframe tbody tr th {\n",
       "        vertical-align: top;\n",
       "    }\n",
       "\n",
       "    .dataframe thead th {\n",
       "        text-align: right;\n",
       "    }\n",
       "</style>\n",
       "<table border=\"1\" class=\"dataframe\">\n",
       "  <thead>\n",
       "    <tr style=\"text-align: right;\">\n",
       "      <th></th>\n",
       "      <th>0</th>\n",
       "      <th>1</th>\n",
       "      <th>2</th>\n",
       "      <th>3</th>\n",
       "      <th>4</th>\n",
       "      <th>5</th>\n",
       "      <th>6</th>\n",
       "      <th>7</th>\n",
       "      <th>8</th>\n",
       "      <th>9</th>\n",
       "      <th>...</th>\n",
       "      <th>90</th>\n",
       "      <th>91</th>\n",
       "      <th>92</th>\n",
       "      <th>93</th>\n",
       "      <th>94</th>\n",
       "      <th>95</th>\n",
       "      <th>96</th>\n",
       "      <th>97</th>\n",
       "      <th>98</th>\n",
       "      <th>99</th>\n",
       "    </tr>\n",
       "    <tr>\n",
       "      <th>graph</th>\n",
       "      <th></th>\n",
       "      <th></th>\n",
       "      <th></th>\n",
       "      <th></th>\n",
       "      <th></th>\n",
       "      <th></th>\n",
       "      <th></th>\n",
       "      <th></th>\n",
       "      <th></th>\n",
       "      <th></th>\n",
       "      <th></th>\n",
       "      <th></th>\n",
       "      <th></th>\n",
       "      <th></th>\n",
       "      <th></th>\n",
       "      <th></th>\n",
       "      <th></th>\n",
       "      <th></th>\n",
       "      <th></th>\n",
       "      <th></th>\n",
       "      <th></th>\n",
       "    </tr>\n",
       "  </thead>\n",
       "  <tbody>\n",
       "    <tr>\n",
       "      <th>0</th>\n",
       "      <td>74</td>\n",
       "      <td>76</td>\n",
       "      <td>73</td>\n",
       "      <td>81</td>\n",
       "      <td>70</td>\n",
       "      <td>78</td>\n",
       "      <td>69</td>\n",
       "      <td>73</td>\n",
       "      <td>70</td>\n",
       "      <td>67</td>\n",
       "      <td>...</td>\n",
       "      <td>80</td>\n",
       "      <td>75</td>\n",
       "      <td>71</td>\n",
       "      <td>72</td>\n",
       "      <td>73</td>\n",
       "      <td>82</td>\n",
       "      <td>69</td>\n",
       "      <td>75</td>\n",
       "      <td>78</td>\n",
       "      <td>76</td>\n",
       "    </tr>\n",
       "    <tr>\n",
       "      <th>1</th>\n",
       "      <td>79</td>\n",
       "      <td>71</td>\n",
       "      <td>77</td>\n",
       "      <td>79</td>\n",
       "      <td>79</td>\n",
       "      <td>80</td>\n",
       "      <td>76</td>\n",
       "      <td>76</td>\n",
       "      <td>79</td>\n",
       "      <td>72</td>\n",
       "      <td>...</td>\n",
       "      <td>84</td>\n",
       "      <td>75</td>\n",
       "      <td>70</td>\n",
       "      <td>81</td>\n",
       "      <td>81</td>\n",
       "      <td>76</td>\n",
       "      <td>74</td>\n",
       "      <td>76</td>\n",
       "      <td>78</td>\n",
       "      <td>69</td>\n",
       "    </tr>\n",
       "  </tbody>\n",
       "</table>\n",
       "<p>2 rows × 100 columns</p>\n",
       "</div>"
      ]
     },
     "execution_count": 26,
     "metadata": {},
     "output_type": "execute_result"
    }
   ],
   "execution_count": 26
  },
  {
   "metadata": {
    "ExecuteTime": {
     "end_time": "2025-04-11T17:33:36.303544Z",
     "start_time": "2025-04-11T17:33:36.076742Z"
    }
   },
   "cell_type": "code",
   "source": "torch.tensor(degrees_df.iloc[0].to_numpy()).unique().shape",
   "id": "5428eb45728004b2",
   "outputs": [
    {
     "data": {
      "text/plain": [
       "torch.Size([25])"
      ]
     },
     "execution_count": 46,
     "metadata": {},
     "output_type": "execute_result"
    }
   ],
   "execution_count": 46
  },
  {
   "metadata": {
    "ExecuteTime": {
     "end_time": "2025-04-11T17:48:06.284152Z",
     "start_time": "2025-04-11T17:48:06.037453Z"
    }
   },
   "cell_type": "code",
   "source": [
    "correlations_gcn = []\n",
    "for i, row in actions_gcn_df.iterrows():\n",
    "    corr, _ = pearsonr(degrees_df.iloc[i], row)\n",
    "    correlations_gcn.append(abs(corr))\n",
    "correlations_fcn = []\n",
    "for i, row in actions_fcn_df.iterrows():\n",
    "    corr, _ = pearsonr(degrees_df.iloc[i], row)\n",
    "    correlations_fcn.append(abs(corr))\n",
    "correlations_hybrid = []\n",
    "for i, row in actions_hybrid_df.iterrows():\n",
    "    corr, _ = pearsonr(degrees_df.iloc[i], row)\n",
    "    correlations_hybrid.append(abs(corr))\n",
    "correlations_random = []\n",
    "for i, row in actions_random_df.iterrows():\n",
    "    corr, _ = pearsonr(degrees_df.iloc[i], row)\n",
    "    correlations_random.append(abs(corr))\n",
    "correlations = [correlations_gcn, correlations_hybrid, correlations_fcn, correlations_random]\n",
    "names = [f'Graph{i}' for i in range(len(correlations_gcn))]\n",
    "names"
   ],
   "id": "2daf8809f41f8774",
   "outputs": [
    {
     "data": {
      "text/plain": [
       "['Graph0', 'Graph1']"
      ]
     },
     "execution_count": 62,
     "metadata": {},
     "output_type": "execute_result"
    }
   ],
   "execution_count": 62
  },
  {
   "metadata": {
    "ExecuteTime": {
     "end_time": "2025-04-11T17:48:06.780693Z",
     "start_time": "2025-04-11T17:48:06.455446Z"
    }
   },
   "cell_type": "code",
   "source": [
    "colors = ['orange', 'brown', 'yellow', 'red']\n",
    "agent_names = ['GCN', 'Hybrid', 'FCN', 'Random']\n",
    "\n",
    "x = np.arange(len(names))\n",
    "width = 0.2\n",
    "\n",
    "for i in range(len(correlations)):\n",
    "    plt.bar(x + i * width, correlations[i], width=width, label=agent_names[i], color=colors[i])\n",
    "\n",
    "plt.xticks(x + width, names)\n",
    "plt.legend()\n",
    "plt.show()"
   ],
   "id": "f327cd361088b38e",
   "outputs": [
    {
     "data": {
      "text/plain": [
       "<Figure size 640x480 with 1 Axes>"
      ],
      "image/png": "[encoded data removed]"
     },
     "metadata": {},
     "output_type": "display_data"
    }
   ],
   "execution_count": 63
  },
  {
   "metadata": {},
   "cell_type": "code",
   "outputs": [],
   "execution_count": null,
   "source": "",
   "id": "8415656b99e33648"
  }
 ],
 "metadata": {
  "kernelspec": {
   "display_name": "Python 3",
   "language": "python",
   "name": "python3"
  },
  "language_info": {
   "codemirror_mode": {
    "name": "ipython",
    "version": 2
   },
   "file_extension": ".py",
   "mimetype": "text/x-python",
   "name": "python",
   "nbconvert_exporter": "python",
   "pygments_lexer": "ipython2",
   "version": "2.7.6"
  }
 },
 "nbformat": 4,
 "nbformat_minor": 5
}
