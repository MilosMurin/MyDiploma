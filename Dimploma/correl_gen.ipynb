{
 "cells": [
  {
   "cell_type": "code",
   "id": "initial_id",
   "metadata": {
    "collapsed": true,
    "ExecuteTime": {
     "end_time": "2025-04-11T18:00:59.081Z",
     "start_time": "2025-04-11T18:00:58.802559Z"
    }
   },
   "source": [
    "import torch\n",
    "\n",
    "import tr_util\n",
    "import util\n",
    "import pandas as pd\n",
    "import numpy as np\n",
    "import matplotlib.pyplot as plt\n",
    "from scipy.stats import pearsonr\n",
    "\n",
    "from Dimploma.EnvironmentTree import EnvInfo, MatrixEnvInfo, EnvMinimalTreeTwoStep\n",
    "from Dimploma.ppo_parallel_custom import Agent\n",
    "from Dimploma.utils.graph_provider import GraphProvider\n",
    "from Dimploma.utils.my_agent_base import RandomAgent\n",
    "from Dimploma.utils.testingResult import TestCorrelResult\n",
    "from zNetwork.my_gcn import GCN\n",
    "from zNetwork.fully_con import FCN\n",
    "from zNetwork.hybrid_gcn import HybridNetworkGlobal"
   ],
   "outputs": [],
   "execution_count": 107
  },
  {
   "metadata": {
    "ExecuteTime": {
     "end_time": "2025-04-11T17:53:30.770574Z",
     "start_time": "2025-04-11T17:53:30.539520Z"
    }
   },
   "cell_type": "code",
   "source": [
    "%load_ext autoreload\n",
    "%autoreload 2"
   ],
   "id": "f81a18d325a69931",
   "outputs": [
    {
     "name": "stdout",
     "output_type": "stream",
     "text": [
      "The autoreload extension is already loaded. To reload it, use:\n",
      "  %reload_ext autoreload\n"
     ]
    }
   ],
   "execution_count": 86
  },
  {
   "metadata": {
    "ExecuteTime": {
     "end_time": "2025-04-11T18:08:17.310550Z",
     "start_time": "2025-04-11T18:08:16.546397Z"
    }
   },
   "cell_type": "code",
   "source": [
    "# Generate graphs of the given size\n",
    "node_amount = 50\n",
    "node_features = 2\n",
    "max_edge_amount = torch.sum(torch.arange(node_amount)).item()\n",
    "edge_amount = int(max_edge_amount*0.75)\n",
    "edge_features = 2\n",
    "# edge_features = None\n",
    "\n",
    "min_edge_val = 1\n",
    "max_edge_val = 10\n",
    "\n",
    "\n",
    "main_layers = 3\n",
    "main_lin_layers = 2\n",
    "p_layers = 2\n",
    "v_layers = 2\n",
    "\n",
    "use_argmax = True\n",
    "\n",
    "# if GCN\n",
    "use_catenation = False\n"
   ],
   "id": "e328c4c0bff82d57",
   "outputs": [],
   "execution_count": 118
  },
  {
   "metadata": {
    "ExecuteTime": {
     "end_time": "2025-04-11T18:08:18.631025Z",
     "start_time": "2025-04-11T18:08:18.004489Z"
    }
   },
   "cell_type": "code",
   "source": [
    "graph_provider = GraphProvider(nodes=node_amount, edges=edge_amount, min_val=min_edge_val, max_val=max_edge_val)\n",
    "\n",
    "graph_env = EnvMinimalTreeTwoStep(EnvInfo(graph_provider))\n",
    "matrix_env = EnvMinimalTreeTwoStep(MatrixEnvInfo(graph_provider, edge_info=True, node_info=True))"
   ],
   "id": "101717659db88cb1",
   "outputs": [],
   "execution_count": 119
  },
  {
   "metadata": {
    "ExecuteTime": {
     "end_time": "2025-04-11T18:08:20.325530Z",
     "start_time": "2025-04-11T18:08:20.057391Z"
    }
   },
   "cell_type": "code",
   "source": [
    "# Agents setup\n",
    "gcn_net = GCN(node_amount, node_features, use_catenation, main_layers, p_layers, v_layers, edge_dim=edge_features)\n",
    "matrix_net = FCN(node_amount, node_features, edge_amount, main_lin_layers, p_layers, v_layers, True, True)\n",
    "hybrid_net = HybridNetworkGlobal(node_features, node_amount, edge_dim=edge_features)\n",
    "\n",
    "gcn_agent = Agent(gcn_net, test=True)\n",
    "matrix_agent = Agent(matrix_net, test=True)\n",
    "hybrid_agent = Agent(hybrid_net, test=True)\n"
   ],
   "id": "57759e8b6e598014",
   "outputs": [],
   "execution_count": 120
  },
  {
   "metadata": {
    "ExecuteTime": {
     "end_time": "2025-04-11T18:08:20.845222Z",
     "start_time": "2025-04-11T18:08:20.588496Z"
    }
   },
   "cell_type": "code",
   "source": [
    "test_amount = 50\n",
    "# test_amount = 100\n",
    "graph_amount = 5\n",
    "# graph_amount = 10\n",
    "\n",
    "append = -1\n",
    "# append = 10\n",
    "\n",
    "\n",
    "tests = TestCorrelResult(node_amount, test_amount, graph_amount, append=append)\n",
    "\n",
    "random_uniform = RandomAgent()\n",
    "tests.addAgent('Random', random_uniform, 'red', multiple_tetst=True)\n",
    "tests.addAgent('GCN', gcn_agent, 'orange', multiple_tetst=True)\n",
    "tests.addAgent('Matrix', matrix_agent, 'magenta', multiple_tetst=True, special=True)\n",
    "tests.addAgent('Hybrid', hybrid_agent, 'yellow', multiple_tetst=True)\n"
   ],
   "id": "21f9aa11791845e7",
   "outputs": [],
   "execution_count": 121
  },
  {
   "metadata": {
    "ExecuteTime": {
     "end_time": "2025-04-11T18:14:24.225523Z",
     "start_time": "2025-04-11T18:08:32.446242Z"
    }
   },
   "cell_type": "code",
   "source": [
    "tests.setup('test_m100_am')\n",
    "tests.test(graph_env, matrix_env, use_argmax)"
   ],
   "id": "4a9ba20720441d0a",
   "outputs": [
    {
     "name": "stdout",
     "output_type": "stream",
     "text": [
      "Started tests\n",
      "Graph 0------------------------------\n",
      "Started tests for agent Random\n",
      "finished 10 tests for agent Random\n",
      "finished 20 tests for agent Random\n",
      "finished 30 tests for agent Random\n",
      "finished 40 tests for agent Random\n",
      "Finished all tests for agent Random\n",
      "Started tests for agent GCN\n",
      "finished 10 tests for agent GCN\n",
      "finished 20 tests for agent GCN\n",
      "finished 30 tests for agent GCN\n",
      "finished 40 tests for agent GCN\n",
      "Finished all tests for agent GCN\n",
      "Started tests for agent Matrix\n",
      "finished 10 tests for agent Matrix\n",
      "finished 20 tests for agent Matrix\n",
      "finished 30 tests for agent Matrix\n",
      "finished 40 tests for agent Matrix\n",
      "Finished all tests for agent Matrix\n",
      "Started tests for agent Hybrid\n",
      "finished 10 tests for agent Hybrid\n",
      "finished 20 tests for agent Hybrid\n",
      "finished 30 tests for agent Hybrid\n",
      "finished 40 tests for agent Hybrid\n",
      "Finished all tests for agent Hybrid\n",
      "Finished 1 tests for all agents\n",
      "Graph 1------------------------------\n",
      "Started tests for agent Random\n",
      "finished 10 tests for agent Random\n",
      "finished 20 tests for agent Random\n",
      "finished 30 tests for agent Random\n",
      "finished 40 tests for agent Random\n",
      "Finished all tests for agent Random\n",
      "Started tests for agent GCN\n",
      "finished 10 tests for agent GCN\n",
      "finished 20 tests for agent GCN\n",
      "finished 30 tests for agent GCN\n",
      "finished 40 tests for agent GCN\n",
      "Finished all tests for agent GCN\n",
      "Started tests for agent Matrix\n",
      "finished 10 tests for agent Matrix\n",
      "finished 20 tests for agent Matrix\n",
      "finished 30 tests for agent Matrix\n",
      "finished 40 tests for agent Matrix\n",
      "Finished all tests for agent Matrix\n",
      "Started tests for agent Hybrid\n",
      "finished 10 tests for agent Hybrid\n",
      "finished 20 tests for agent Hybrid\n",
      "finished 30 tests for agent Hybrid\n",
      "finished 40 tests for agent Hybrid\n",
      "Finished all tests for agent Hybrid\n",
      "Finished 2 tests for all agents\n",
      "Graph 2------------------------------\n",
      "Started tests for agent Random\n",
      "finished 10 tests for agent Random\n",
      "finished 20 tests for agent Random\n",
      "finished 30 tests for agent Random\n",
      "finished 40 tests for agent Random\n",
      "Finished all tests for agent Random\n",
      "Started tests for agent GCN\n",
      "finished 10 tests for agent GCN\n",
      "finished 20 tests for agent GCN\n",
      "finished 30 tests for agent GCN\n",
      "finished 40 tests for agent GCN\n",
      "Finished all tests for agent GCN\n",
      "Started tests for agent Matrix\n",
      "finished 10 tests for agent Matrix\n",
      "finished 20 tests for agent Matrix\n",
      "finished 30 tests for agent Matrix\n",
      "finished 40 tests for agent Matrix\n",
      "Finished all tests for agent Matrix\n",
      "Started tests for agent Hybrid\n",
      "finished 10 tests for agent Hybrid\n",
      "finished 20 tests for agent Hybrid\n",
      "finished 30 tests for agent Hybrid\n",
      "finished 40 tests for agent Hybrid\n",
      "Finished all tests for agent Hybrid\n",
      "Finished 3 tests for all agents\n",
      "Graph 3------------------------------\n",
      "Started tests for agent Random\n",
      "finished 10 tests for agent Random\n",
      "finished 20 tests for agent Random\n",
      "finished 30 tests for agent Random\n",
      "finished 40 tests for agent Random\n",
      "Finished all tests for agent Random\n",
      "Started tests for agent GCN\n",
      "finished 10 tests for agent GCN\n",
      "finished 20 tests for agent GCN\n",
      "finished 30 tests for agent GCN\n",
      "finished 40 tests for agent GCN\n",
      "Finished all tests for agent GCN\n",
      "Started tests for agent Matrix\n",
      "finished 10 tests for agent Matrix\n",
      "finished 20 tests for agent Matrix\n",
      "finished 30 tests for agent Matrix\n",
      "finished 40 tests for agent Matrix\n",
      "Finished all tests for agent Matrix\n",
      "Started tests for agent Hybrid\n",
      "finished 10 tests for agent Hybrid\n",
      "finished 20 tests for agent Hybrid\n",
      "finished 30 tests for agent Hybrid\n",
      "finished 40 tests for agent Hybrid\n",
      "Finished all tests for agent Hybrid\n",
      "Finished 4 tests for all agents\n",
      "Graph 4------------------------------\n",
      "Started tests for agent Random\n",
      "finished 10 tests for agent Random\n",
      "finished 20 tests for agent Random\n",
      "finished 30 tests for agent Random\n",
      "finished 40 tests for agent Random\n",
      "Finished all tests for agent Random\n",
      "Started tests for agent GCN\n",
      "finished 10 tests for agent GCN\n",
      "finished 20 tests for agent GCN\n",
      "finished 30 tests for agent GCN\n",
      "finished 40 tests for agent GCN\n",
      "Finished all tests for agent GCN\n",
      "Started tests for agent Matrix\n",
      "finished 10 tests for agent Matrix\n",
      "finished 20 tests for agent Matrix\n",
      "finished 30 tests for agent Matrix\n",
      "finished 40 tests for agent Matrix\n",
      "Finished all tests for agent Matrix\n",
      "Started tests for agent Hybrid\n",
      "finished 10 tests for agent Hybrid\n",
      "finished 20 tests for agent Hybrid\n",
      "finished 30 tests for agent Hybrid\n",
      "finished 40 tests for agent Hybrid\n",
      "Finished all tests for agent Hybrid\n",
      "Finished 5 tests for all agents\n",
      "Ended tests\n"
     ]
    }
   ],
   "execution_count": 122
  },
  {
   "metadata": {
    "ExecuteTime": {
     "end_time": "2025-04-11T18:14:39.559960Z",
     "start_time": "2025-04-11T18:14:39.024405Z"
    }
   },
   "cell_type": "code",
   "source": [
    "default_path = 'results/correl/test_m100_am_n50_t50'\n",
    "default_path"
   ],
   "id": "20bf03e53b707d81",
   "outputs": [
    {
     "data": {
      "text/plain": [
       "'results/correl/test_m100_am_n50_t50'"
      ]
     },
     "execution_count": 123,
     "metadata": {},
     "output_type": "execute_result"
    }
   ],
   "execution_count": 123
  },
  {
   "metadata": {
    "ExecuteTime": {
     "end_time": "2025-04-11T18:14:40.431144Z",
     "start_time": "2025-04-11T18:14:40.108166Z"
    }
   },
   "cell_type": "code",
   "source": [
    "actions_gcn_df = pd.read_csv(f'{default_path}/gcn_actions.csv', index_col=0)\n",
    "actions_fcn_df = pd.read_csv(f'{default_path}/matrix_actions.csv', index_col=0)\n",
    "actions_hybrid_df = pd.read_csv(f'{default_path}/hybrid_actions.csv', index_col=0)\n",
    "actions_random_df = pd.read_csv(f'{default_path}/random_actions.csv', index_col=0)\n",
    "degrees_df = pd.read_csv(f'{default_path}/degrees.csv', index_col=0)\n",
    "degrees_df"
   ],
   "id": "409c767373e507a7",
   "outputs": [
    {
     "data": {
      "text/plain": [
       "        0   1   2   3   4   5   6   7   8   9  ...  40  41  42  43  44  45  \\\n",
       "graph                                          ...                           \n",
       "0      39  34  42  41  36  34  40  33  38  38  ...  35  48  38  39  31  34   \n",
       "1      39  40  39  33  39  35  36  45  29  39  ...  35  41  29  37  37  37   \n",
       "2      42  38  26  37  40  41  36  36  36  37  ...  30  36  42  39  41  34   \n",
       "3      39  41  37  41  38  35  40  38  40  38  ...  40  31  30  35  31  38   \n",
       "4      37  41  39  35  34  38  39  41  43  40  ...  35  38  37  38  39  35   \n",
       "\n",
       "       46  47  48  49  \n",
       "graph                  \n",
       "0      38  34  36  32  \n",
       "1      32  38  33  42  \n",
       "2      37  39  33  40  \n",
       "3      39  40  32  34  \n",
       "4      35  37  30  34  \n",
       "\n",
       "[5 rows x 50 columns]"
      ],
      "text/html": [
       "<div>\n",
       "<style scoped>\n",
       "    .dataframe tbody tr th:only-of-type {\n",
       "        vertical-align: middle;\n",
       "    }\n",
       "\n",
       "    .dataframe tbody tr th {\n",
       "        vertical-align: top;\n",
       "    }\n",
       "\n",
       "    .dataframe thead th {\n",
       "        text-align: right;\n",
       "    }\n",
       "</style>\n",
       "<table border=\"1\" class=\"dataframe\">\n",
       "  <thead>\n",
       "    <tr style=\"text-align: right;\">\n",
       "      <th></th>\n",
       "      <th>0</th>\n",
       "      <th>1</th>\n",
       "      <th>2</th>\n",
       "      <th>3</th>\n",
       "      <th>4</th>\n",
       "      <th>5</th>\n",
       "      <th>6</th>\n",
       "      <th>7</th>\n",
       "      <th>8</th>\n",
       "      <th>9</th>\n",
       "      <th>...</th>\n",
       "      <th>40</th>\n",
       "      <th>41</th>\n",
       "      <th>42</th>\n",
       "      <th>43</th>\n",
       "      <th>44</th>\n",
       "      <th>45</th>\n",
       "      <th>46</th>\n",
       "      <th>47</th>\n",
       "      <th>48</th>\n",
       "      <th>49</th>\n",
       "    </tr>\n",
       "    <tr>\n",
       "      <th>graph</th>\n",
       "      <th></th>\n",
       "      <th></th>\n",
       "      <th></th>\n",
       "      <th></th>\n",
       "      <th></th>\n",
       "      <th></th>\n",
       "      <th></th>\n",
       "      <th></th>\n",
       "      <th></th>\n",
       "      <th></th>\n",
       "      <th></th>\n",
       "      <th></th>\n",
       "      <th></th>\n",
       "      <th></th>\n",
       "      <th></th>\n",
       "      <th></th>\n",
       "      <th></th>\n",
       "      <th></th>\n",
       "      <th></th>\n",
       "      <th></th>\n",
       "      <th></th>\n",
       "    </tr>\n",
       "  </thead>\n",
       "  <tbody>\n",
       "    <tr>\n",
       "      <th>0</th>\n",
       "      <td>39</td>\n",
       "      <td>34</td>\n",
       "      <td>42</td>\n",
       "      <td>41</td>\n",
       "      <td>36</td>\n",
       "      <td>34</td>\n",
       "      <td>40</td>\n",
       "      <td>33</td>\n",
       "      <td>38</td>\n",
       "      <td>38</td>\n",
       "      <td>...</td>\n",
       "      <td>35</td>\n",
       "      <td>48</td>\n",
       "      <td>38</td>\n",
       "      <td>39</td>\n",
       "      <td>31</td>\n",
       "      <td>34</td>\n",
       "      <td>38</td>\n",
       "      <td>34</td>\n",
       "      <td>36</td>\n",
       "      <td>32</td>\n",
       "    </tr>\n",
       "    <tr>\n",
       "      <th>1</th>\n",
       "      <td>39</td>\n",
       "      <td>40</td>\n",
       "      <td>39</td>\n",
       "      <td>33</td>\n",
       "      <td>39</td>\n",
       "      <td>35</td>\n",
       "      <td>36</td>\n",
       "      <td>45</td>\n",
       "      <td>29</td>\n",
       "      <td>39</td>\n",
       "      <td>...</td>\n",
       "      <td>35</td>\n",
       "      <td>41</td>\n",
       "      <td>29</td>\n",
       "      <td>37</td>\n",
       "      <td>37</td>\n",
       "      <td>37</td>\n",
       "      <td>32</td>\n",
       "      <td>38</td>\n",
       "      <td>33</td>\n",
       "      <td>42</td>\n",
       "    </tr>\n",
       "    <tr>\n",
       "      <th>2</th>\n",
       "      <td>42</td>\n",
       "      <td>38</td>\n",
       "      <td>26</td>\n",
       "      <td>37</td>\n",
       "      <td>40</td>\n",
       "      <td>41</td>\n",
       "      <td>36</td>\n",
       "      <td>36</td>\n",
       "      <td>36</td>\n",
       "      <td>37</td>\n",
       "      <td>...</td>\n",
       "      <td>30</td>\n",
       "      <td>36</td>\n",
       "      <td>42</td>\n",
       "      <td>39</td>\n",
       "      <td>41</td>\n",
       "      <td>34</td>\n",
       "      <td>37</td>\n",
       "      <td>39</td>\n",
       "      <td>33</td>\n",
       "      <td>40</td>\n",
       "    </tr>\n",
       "    <tr>\n",
       "      <th>3</th>\n",
       "      <td>39</td>\n",
       "      <td>41</td>\n",
       "      <td>37</td>\n",
       "      <td>41</td>\n",
       "      <td>38</td>\n",
       "      <td>35</td>\n",
       "      <td>40</td>\n",
       "      <td>38</td>\n",
       "      <td>40</td>\n",
       "      <td>38</td>\n",
       "      <td>...</td>\n",
       "      <td>40</td>\n",
       "      <td>31</td>\n",
       "      <td>30</td>\n",
       "      <td>35</td>\n",
       "      <td>31</td>\n",
       "      <td>38</td>\n",
       "      <td>39</td>\n",
       "      <td>40</td>\n",
       "      <td>32</td>\n",
       "      <td>34</td>\n",
       "    </tr>\n",
       "    <tr>\n",
       "      <th>4</th>\n",
       "      <td>37</td>\n",
       "      <td>41</td>\n",
       "      <td>39</td>\n",
       "      <td>35</td>\n",
       "      <td>34</td>\n",
       "      <td>38</td>\n",
       "      <td>39</td>\n",
       "      <td>41</td>\n",
       "      <td>43</td>\n",
       "      <td>40</td>\n",
       "      <td>...</td>\n",
       "      <td>35</td>\n",
       "      <td>38</td>\n",
       "      <td>37</td>\n",
       "      <td>38</td>\n",
       "      <td>39</td>\n",
       "      <td>35</td>\n",
       "      <td>35</td>\n",
       "      <td>37</td>\n",
       "      <td>30</td>\n",
       "      <td>34</td>\n",
       "    </tr>\n",
       "  </tbody>\n",
       "</table>\n",
       "<p>5 rows × 50 columns</p>\n",
       "</div>"
      ]
     },
     "execution_count": 124,
     "metadata": {},
     "output_type": "execute_result"
    }
   ],
   "execution_count": 124
  },
  {
   "metadata": {
    "ExecuteTime": {
     "end_time": "2025-04-11T18:14:41.733625Z",
     "start_time": "2025-04-11T18:14:41.435421Z"
    }
   },
   "cell_type": "code",
   "source": "torch.tensor(degrees_df.iloc[0].to_numpy()).unique().shape",
   "id": "5428eb45728004b2",
   "outputs": [
    {
     "data": {
      "text/plain": [
       "torch.Size([16])"
      ]
     },
     "execution_count": 125,
     "metadata": {},
     "output_type": "execute_result"
    }
   ],
   "execution_count": 125
  },
  {
   "metadata": {
    "ExecuteTime": {
     "end_time": "2025-04-11T18:25:47.771818Z",
     "start_time": "2025-04-11T18:25:20.118210Z"
    }
   },
   "cell_type": "code",
   "source": [
    "correlations_gcn = []\n",
    "for i, row in actions_gcn_df.iterrows():\n",
    "    corr, _ = pearsonr(degrees_df.iloc[i], row)\n",
    "    correlations_gcn.append(abs(corr))\n",
    "correlations_fcn = []\n",
    "for i, row in actions_fcn_df.iterrows():\n",
    "    corr, _ = pearsonr(degrees_df.iloc[i], row)\n",
    "    correlations_fcn.append(abs(corr))\n",
    "correlations_hybrid = []\n",
    "for i, row in actions_hybrid_df.iterrows():\n",
    "    corr, _ = pearsonr(degrees_df.iloc[i], row)\n",
    "    correlations_hybrid.append(abs(corr))\n",
    "correlations_random = []\n",
    "for i, row in actions_random_df.iterrows():\n",
    "    corr, _ = pearsonr(degrees_df.iloc[i], row)\n",
    "    correlations_random.append(abs(corr))\n",
    "correlations = [correlations_gcn, correlations_hybrid, correlations_fcn, correlations_random]\n",
    "names = [f'Graph{i}' for i in range(len(correlations_gcn))]\n",
    "names"
   ],
   "id": "2daf8809f41f8774",
   "outputs": [
    {
     "data": {
      "text/plain": [
       "['Graph0', 'Graph1', 'Graph2', 'Graph3', 'Graph4']"
      ]
     },
     "execution_count": 133,
     "metadata": {},
     "output_type": "execute_result"
    }
   ],
   "execution_count": 133
  },
  {
   "metadata": {
    "ExecuteTime": {
     "end_time": "2025-04-11T18:25:52.279446Z",
     "start_time": "2025-04-11T18:25:51.934604Z"
    }
   },
   "cell_type": "code",
   "source": [
    "colors = ['orange', 'brown', 'yellow', 'red']\n",
    "agent_names = ['GCN', 'Hybrid', 'FCN', 'Random']\n",
    "\n",
    "x = np.arange(len(names))\n",
    "width = 0.2\n",
    "\n",
    "for i in range(len(correlations)):\n",
    "    plt.bar(x + i * width, correlations[i], width=width, label=agent_names[i], color=colors[i])\n",
    "\n",
    "plt.xticks(x + width, names)\n",
    "plt.legend()\n",
    "plt.show()"
   ],
   "id": "f327cd361088b38e",
   "outputs": [
    {
     "data": {
      "text/plain": [
       "<Figure size 640x480 with 1 Axes>"
      ],
      "image/png": "[encoded data removed]"
     },
     "metadata": {},
     "output_type": "display_data"
    }
   ],
   "execution_count": 134
  },
  {
   "metadata": {},
   "cell_type": "code",
   "outputs": [],
   "execution_count": null,
   "source": "",
   "id": "8415656b99e33648"
  }
 ],
 "metadata": {
  "kernelspec": {
   "display_name": "Python 3",
   "language": "python",
   "name": "python3"
  },
  "language_info": {
   "codemirror_mode": {
    "name": "ipython",
    "version": 2
   },
   "file_extension": ".py",
   "mimetype": "text/x-python",
   "name": "python",
   "nbconvert_exporter": "python",
   "pygments_lexer": "ipython2",
   "version": "2.7.6"
  }
 },
 "nbformat": 4,
 "nbformat_minor": 5
}
