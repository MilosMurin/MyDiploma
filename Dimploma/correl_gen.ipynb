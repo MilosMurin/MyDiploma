{
 "cells": [
  {
   "cell_type": "code",
   "id": "initial_id",
   "metadata": {
    "collapsed": true,
    "jupyter": {
     "is_executing": true
    }
   },
   "source": [
    "import torch\n",
    "\n",
    "import tr_util\n",
    "import util\n",
    "import pandas as pd\n",
    "import numpy as np\n",
    "import matplotlib.pyplot as plt\n",
    "from scipy.stats import pearsonr\n",
    "\n",
    "from Dimploma.EnvironmentTree import EnvInfo, MatrixEnvInfo, EnvMinimalTreeTwoStep\n",
    "from Dimploma.ppo_parallel_custom import Agent\n",
    "from Dimploma.utils.graph_provider import GraphProvider\n",
    "from Dimploma.utils.my_agent_base import RandomAgent\n",
    "from Dimploma.utils.testingResult import TestCorrelResult\n",
    "from zNetwork.my_gcn import GCN\n",
    "from zNetwork.fully_con import FCN\n",
    "from zNetwork.hybrid_gcn import HybridNetworkGlobal"
   ],
   "outputs": [],
   "execution_count": null
  },
  {
   "metadata": {
    "ExecuteTime": {
     "end_time": "2025-04-25T22:17:00.055296Z",
     "start_time": "2025-04-25T22:16:59.888395Z"
    }
   },
   "cell_type": "code",
   "source": [
    "%load_ext autoreload\n",
    "%autoreload 2"
   ],
   "id": "f81a18d325a69931",
   "outputs": [],
   "execution_count": 2
  },
  {
   "metadata": {
    "ExecuteTime": {
     "end_time": "2025-04-25T22:17:01.881202Z",
     "start_time": "2025-04-25T22:17:01.726715Z"
    }
   },
   "cell_type": "code",
   "source": [
    "# Generate graphs of the given size\n",
    "node_amount = 100\n",
    "node_features = 2\n",
    "max_edge_amount = torch.sum(torch.arange(node_amount)).item()\n",
    "edge_amount = int(max_edge_amount*0.75)\n",
    "# edge_features = 2\n",
    "edge_features = None\n",
    "\n",
    "min_edge_val = 1\n",
    "max_edge_val = 10\n",
    "\n",
    "\n",
    "main_layers = 3\n",
    "side_graph_layers = 6\n",
    "main_lin_layers = 2\n",
    "p_layers = 2\n",
    "v_layers = 2\n",
    "\n",
    "use_argmax = False\n",
    "\n",
    "# if GCN\n",
    "use_catenation = False\n"
   ],
   "id": "e328c4c0bff82d57",
   "outputs": [],
   "execution_count": 3
  },
  {
   "metadata": {
    "ExecuteTime": {
     "end_time": "2025-04-25T22:17:05.821333Z",
     "start_time": "2025-04-25T22:17:04.018772Z"
    }
   },
   "cell_type": "code",
   "source": [
    "graph_provider = GraphProvider(nodes=node_amount, edges=edge_amount, min_val=min_edge_val, max_val=max_edge_val)\n",
    "\n",
    "graph_env = EnvMinimalTreeTwoStep(EnvInfo(graph_provider))\n",
    "matrix_env = EnvMinimalTreeTwoStep(MatrixEnvInfo(graph_provider, edge_info=True, node_info=True))"
   ],
   "id": "101717659db88cb1",
   "outputs": [],
   "execution_count": 4
  },
  {
   "metadata": {
    "ExecuteTime": {
     "end_time": "2025-04-13T16:01:20.192759Z",
     "start_time": "2025-04-13T16:01:19.729852Z"
    }
   },
   "cell_type": "code",
   "source": [
    "\n",
    "loaded_graph = torch.load('graphs/graph23_n10_e33.pt', weights_only=False)\n",
    "graph_provider.set_fixed_graph(loaded_graph)"
   ],
   "id": "a3a762bf39e15089",
   "outputs": [],
   "execution_count": 94
  },
  {
   "metadata": {
    "ExecuteTime": {
     "end_time": "2025-04-25T22:17:08.104803Z",
     "start_time": "2025-04-25T22:17:07.508671Z"
    }
   },
   "cell_type": "code",
   "source": [
    "# Agents setup\n",
    "gcn_net = GCN(node_amount, node_features, use_catenation, main_layers, p_layers, v_layers, edge_dim=edge_features)\n",
    "gcn6_net = GCN(node_amount, node_features, use_catenation, side_graph_layers, p_layers, v_layers, edge_dim=edge_features)\n",
    "matrix_net = FCN(node_amount, node_features, edge_amount, main_lin_layers, p_layers, v_layers, True, True)\n",
    "hybrid_net = HybridNetworkGlobal(node_features, node_amount, edge_dim=edge_features)\n",
    "\n",
    "gcn_agent = Agent(gcn_net, test=True)\n",
    "gcn6_agent = Agent(gcn6_net, test=True)\n",
    "matrix_agent = Agent(matrix_net, test=True)\n",
    "hybrid_agent = Agent(hybrid_net, test=True)\n"
   ],
   "id": "57759e8b6e598014",
   "outputs": [],
   "execution_count": 5
  },
  {
   "metadata": {
    "ExecuteTime": {
     "end_time": "2025-04-25T22:17:10.253493Z",
     "start_time": "2025-04-25T22:17:10.085700Z"
    }
   },
   "cell_type": "code",
   "source": [
    "# test_amount = 64\n",
    "test_amount = 100\n",
    "graph_amount = 100\n",
    "# graph_amount = 10\n",
    "\n",
    "append = -1\n",
    "# append = 40\n",
    "\n",
    "\n",
    "tests = TestCorrelResult(node_amount, test_amount, graph_amount, append=append)\n",
    "\n",
    "tests.addAgent('GCN', gcn_agent, 'orange')\n",
    "tests.addAgent('GCN6', gcn6_agent, 'brown')\n",
    "tests.addAgent('Matrix', matrix_agent, 'magenta', special=True)\n",
    "# tests.addAgent('Hybrid', hybrid_agent, 'yellow')\n"
   ],
   "id": "21f9aa11791845e7",
   "outputs": [],
   "execution_count": 6
  },
  {
   "metadata": {
    "ExecuteTime": {
     "end_time": "2025-04-25T22:18:52.653386Z",
     "start_time": "2025-04-25T22:17:11.785853Z"
    }
   },
   "cell_type": "code",
   "source": [
    "tests.setup('corrs_np_relu')\n",
    "tests.test(graph_env, matrix_env, use_argmax)"
   ],
   "id": "4a9ba20720441d0a",
   "outputs": [
    {
     "name": "stdout",
     "output_type": "stream",
     "text": [
      "Started tests\n",
      "Graph 0------------------------------\n",
      "Started tests for agent GCN\n",
      "Started tests for agent GCN6\n",
      "Started tests for agent Matrix\n",
      "Finished 1 tests for all agents\n",
      "Graph 1------------------------------\n",
      "Started tests for agent GCN\n",
      "Started tests for agent GCN6\n",
      "Started tests for agent Matrix\n",
      "Finished 2 tests for all agents\n",
      "Graph 2------------------------------\n",
      "Started tests for agent GCN\n",
      "Started tests for agent GCN6\n",
      "Started tests for agent Matrix\n",
      "Finished 3 tests for all agents\n",
      "Graph 3------------------------------\n",
      "Started tests for agent GCN\n",
      "Started tests for agent GCN6\n",
      "Started tests for agent Matrix\n",
      "Finished 4 tests for all agents\n",
      "Graph 4------------------------------\n",
      "Started tests for agent GCN\n",
      "Started tests for agent GCN6\n",
      "Started tests for agent Matrix\n",
      "Finished 5 tests for all agents\n",
      "Graph 5------------------------------\n",
      "Started tests for agent GCN\n",
      "Started tests for agent GCN6\n",
      "Started tests for agent Matrix\n",
      "Finished 6 tests for all agents\n",
      "Graph 6------------------------------\n",
      "Started tests for agent GCN\n",
      "Started tests for agent GCN6\n",
      "Started tests for agent Matrix\n",
      "Finished 7 tests for all agents\n",
      "Graph 7------------------------------\n",
      "Started tests for agent GCN\n",
      "Started tests for agent GCN6\n",
      "Started tests for agent Matrix\n",
      "Finished 8 tests for all agents\n",
      "Graph 8------------------------------\n",
      "Started tests for agent GCN\n",
      "Started tests for agent GCN6\n",
      "Started tests for agent Matrix\n",
      "Finished 9 tests for all agents\n",
      "Graph 9------------------------------\n",
      "Started tests for agent GCN\n",
      "Started tests for agent GCN6\n",
      "Started tests for agent Matrix\n",
      "Finished 10 tests for all agents\n",
      "Graph 10------------------------------\n",
      "Started tests for agent GCN\n",
      "Started tests for agent GCN6\n",
      "Started tests for agent Matrix\n",
      "Finished 11 tests for all agents\n",
      "Graph 11------------------------------\n",
      "Started tests for agent GCN\n",
      "Started tests for agent GCN6\n",
      "Started tests for agent Matrix\n",
      "Finished 12 tests for all agents\n",
      "Graph 12------------------------------\n",
      "Started tests for agent GCN\n",
      "Started tests for agent GCN6\n",
      "Started tests for agent Matrix\n",
      "Finished 13 tests for all agents\n",
      "Graph 13------------------------------\n",
      "Started tests for agent GCN\n",
      "Started tests for agent GCN6\n",
      "Started tests for agent Matrix\n",
      "Finished 14 tests for all agents\n"
     ]
    },
    {
     "ename": "KeyboardInterrupt",
     "evalue": "",
     "output_type": "error",
     "traceback": [
      "\u001B[1;31m---------------------------------------------------------------------------\u001B[0m",
      "\u001B[1;31mKeyboardInterrupt\u001B[0m                         Traceback (most recent call last)",
      "Cell \u001B[1;32mIn[7], line 2\u001B[0m\n\u001B[0;32m      1\u001B[0m tests\u001B[38;5;241m.\u001B[39msetup(\u001B[38;5;124m'\u001B[39m\u001B[38;5;124mcorrs_np_relu\u001B[39m\u001B[38;5;124m'\u001B[39m)\n\u001B[1;32m----> 2\u001B[0m \u001B[43mtests\u001B[49m\u001B[38;5;241;43m.\u001B[39;49m\u001B[43mtest\u001B[49m\u001B[43m(\u001B[49m\u001B[43mgraph_env\u001B[49m\u001B[43m,\u001B[49m\u001B[43m \u001B[49m\u001B[43mmatrix_env\u001B[49m\u001B[43m,\u001B[49m\u001B[43m \u001B[49m\u001B[43muse_argmax\u001B[49m\u001B[43m)\u001B[49m\n",
      "File \u001B[1;32m~\\Documents\\skola\\PR\\Dimploma\\utils\\testingResult.py:128\u001B[0m, in \u001B[0;36mTestCorrelResult.test\u001B[1;34m(self, env, special, argmax)\u001B[0m\n\u001B[0;32m    126\u001B[0m \u001B[38;5;28;01mfor\u001B[39;00m g \u001B[38;5;129;01min\u001B[39;00m \u001B[38;5;28mrange\u001B[39m(\u001B[38;5;28mself\u001B[39m\u001B[38;5;241m.\u001B[39mgraph_amount):\n\u001B[0;32m    127\u001B[0m     gi \u001B[38;5;241m=\u001B[39m g \u001B[38;5;241m+\u001B[39m (\u001B[38;5;28mself\u001B[39m\u001B[38;5;241m.\u001B[39mappend \u001B[38;5;28;01mif\u001B[39;00m \u001B[38;5;28mself\u001B[39m\u001B[38;5;241m.\u001B[39mappend \u001B[38;5;241m>\u001B[39m \u001B[38;5;241m0\u001B[39m \u001B[38;5;28;01melse\u001B[39;00m \u001B[38;5;241m0\u001B[39m)\n\u001B[1;32m--> 128\u001B[0m     gr, _ \u001B[38;5;241m=\u001B[39m \u001B[43menv\u001B[49m\u001B[38;5;241;43m.\u001B[39;49m\u001B[43mreset\u001B[49m\u001B[43m(\u001B[49m\u001B[38;5;28;43;01mTrue\u001B[39;49;00m\u001B[43m)\u001B[49m\n\u001B[0;32m    129\u001B[0m     degrees \u001B[38;5;241m=\u001B[39m util\u001B[38;5;241m.\u001B[39mget_out_edges(gr)\n\u001B[0;32m    130\u001B[0m     \u001B[38;5;66;03m# writ = torch.cat([torch.tensor([gi]), degrees])\u001B[39;00m\n\u001B[0;32m    131\u001B[0m     \u001B[38;5;66;03m# df = pd.DataFrame([writ.tolist()], columns=self.header)\u001B[39;00m\n\u001B[0;32m    132\u001B[0m     \u001B[38;5;66;03m# df.to_csv(self.deg_path, mode='a', header=False, index=False)\u001B[39;00m\n",
      "File \u001B[1;32m~\\Documents\\skola\\PR\\Dimploma\\EnvironmentTree.py:133\u001B[0m, in \u001B[0;36mEnvMinimalTreeTwoStep.reset\u001B[1;34m(self, new_graph)\u001B[0m\n\u001B[0;32m    131\u001B[0m \u001B[38;5;28;01mdef\u001B[39;00m \u001B[38;5;21mreset\u001B[39m(\u001B[38;5;28mself\u001B[39m, new_graph\u001B[38;5;241m=\u001B[39m\u001B[38;5;28;01mTrue\u001B[39;00m):\n\u001B[0;32m    132\u001B[0m     \u001B[38;5;28mself\u001B[39m\u001B[38;5;241m.\u001B[39mlast_step \u001B[38;5;241m=\u001B[39m \u001B[38;5;241m-\u001B[39m\u001B[38;5;241m1\u001B[39m\n\u001B[1;32m--> 133\u001B[0m     cl, _ \u001B[38;5;241m=\u001B[39m \u001B[38;5;28;43msuper\u001B[39;49m\u001B[43m(\u001B[49m\u001B[43m)\u001B[49m\u001B[38;5;241;43m.\u001B[39;49m\u001B[43mreset\u001B[49m\u001B[43m(\u001B[49m\u001B[43mnew_graph\u001B[49m\u001B[43m)\u001B[49m\n\u001B[0;32m    134\u001B[0m     \u001B[38;5;28;01mreturn\u001B[39;00m cl, torch\u001B[38;5;241m.\u001B[39mones(\u001B[38;5;28mself\u001B[39m\u001B[38;5;241m.\u001B[39mgraph\u001B[38;5;241m.\u001B[39mx\u001B[38;5;241m.\u001B[39mshape[\u001B[38;5;241m0\u001B[39m], dtype\u001B[38;5;241m=\u001B[39mtorch\u001B[38;5;241m.\u001B[39mbool)\n",
      "File \u001B[1;32m~\\Documents\\skola\\PR\\Dimploma\\EnvironmentTree.py:70\u001B[0m, in \u001B[0;36mEnvMinimalTree.reset\u001B[1;34m(self, new_graph)\u001B[0m\n\u001B[0;32m     68\u001B[0m \u001B[38;5;28;01mdef\u001B[39;00m \u001B[38;5;21mreset\u001B[39m(\u001B[38;5;28mself\u001B[39m, new_graph\u001B[38;5;241m=\u001B[39m\u001B[38;5;28;01mTrue\u001B[39;00m):\n\u001B[0;32m     69\u001B[0m     \u001B[38;5;28mself\u001B[39m\u001B[38;5;241m.\u001B[39msteps \u001B[38;5;241m=\u001B[39m \u001B[38;5;241m0\u001B[39m\n\u001B[1;32m---> 70\u001B[0m     \u001B[38;5;28mself\u001B[39m\u001B[38;5;241m.\u001B[39mgraph \u001B[38;5;241m=\u001B[39m \u001B[38;5;28;43mself\u001B[39;49m\u001B[38;5;241;43m.\u001B[39;49m\u001B[43menv_info\u001B[49m\u001B[38;5;241;43m.\u001B[39;49m\u001B[43mcreate_graph\u001B[49m\u001B[43m(\u001B[49m\u001B[38;5;28;43mself\u001B[39;49m\u001B[38;5;241;43m.\u001B[39;49m\u001B[43mdevice\u001B[49m\u001B[43m,\u001B[49m\u001B[43m \u001B[49m\u001B[43mnew_graph\u001B[49m\u001B[38;5;241;43m=\u001B[39;49m\u001B[43mnew_graph\u001B[49m\u001B[43m)\u001B[49m\n\u001B[0;32m     71\u001B[0m     \u001B[38;5;28mself\u001B[39m\u001B[38;5;241m.\u001B[39mmatrix \u001B[38;5;241m=\u001B[39m data_to_matrix(\u001B[38;5;28mself\u001B[39m\u001B[38;5;241m.\u001B[39mgraph)\n\u001B[0;32m     72\u001B[0m     \u001B[38;5;28mself\u001B[39m\u001B[38;5;241m.\u001B[39mcalculate_min_span_tree()\n",
      "File \u001B[1;32m~\\Documents\\skola\\PR\\Dimploma\\EnvironmentTree.py:15\u001B[0m, in \u001B[0;36mEnvInfo.create_graph\u001B[1;34m(self, device, new_graph)\u001B[0m\n\u001B[0;32m     14\u001B[0m \u001B[38;5;28;01mdef\u001B[39;00m \u001B[38;5;21mcreate_graph\u001B[39m(\u001B[38;5;28mself\u001B[39m, device\u001B[38;5;241m=\u001B[39m\u001B[38;5;124m'\u001B[39m\u001B[38;5;124mcpu\u001B[39m\u001B[38;5;124m'\u001B[39m, new_graph\u001B[38;5;241m=\u001B[39m\u001B[38;5;28;01mTrue\u001B[39;00m):\n\u001B[1;32m---> 15\u001B[0m     \u001B[38;5;28;01mreturn\u001B[39;00m \u001B[38;5;28;43mself\u001B[39;49m\u001B[38;5;241;43m.\u001B[39;49m\u001B[43mgraph_provider\u001B[49m\u001B[38;5;241;43m.\u001B[39;49m\u001B[43mget_graph\u001B[49m\u001B[43m(\u001B[49m\u001B[43mnew_graph\u001B[49m\u001B[43m)\u001B[49m\u001B[38;5;241m.\u001B[39mto(device)\n",
      "File \u001B[1;32m~\\Documents\\skola\\PR\\Dimploma\\utils\\graph_provider.py:26\u001B[0m, in \u001B[0;36mGraphProvider.get_graph\u001B[1;34m(self, new_graph)\u001B[0m\n\u001B[0;32m     24\u001B[0m \u001B[38;5;28;01mif\u001B[39;00m \u001B[38;5;28mself\u001B[39m\u001B[38;5;241m.\u001B[39mgenerate:\n\u001B[0;32m     25\u001B[0m     \u001B[38;5;28;01mif\u001B[39;00m \u001B[38;5;28mself\u001B[39m\u001B[38;5;241m.\u001B[39mcurrent_graph \u001B[38;5;129;01mis\u001B[39;00m \u001B[38;5;28;01mNone\u001B[39;00m \u001B[38;5;129;01mor\u001B[39;00m new_graph:\n\u001B[1;32m---> 26\u001B[0m         \u001B[38;5;28mself\u001B[39m\u001B[38;5;241m.\u001B[39mcurrent_graph \u001B[38;5;241m=\u001B[39m \u001B[43mgenerate_random_graph_add_method\u001B[49m\u001B[43m(\u001B[49m\u001B[38;5;28;43mself\u001B[39;49m\u001B[38;5;241;43m.\u001B[39;49m\u001B[43mnodes\u001B[49m\u001B[43m,\u001B[49m\u001B[43m \u001B[49m\u001B[38;5;28;43mself\u001B[39;49m\u001B[38;5;241;43m.\u001B[39;49m\u001B[43medges\u001B[49m\u001B[43m,\u001B[49m\u001B[43m \u001B[49m\u001B[38;5;28;43mself\u001B[39;49m\u001B[38;5;241;43m.\u001B[39;49m\u001B[43mmin_val\u001B[49m\u001B[43m,\u001B[49m\u001B[43m \u001B[49m\u001B[38;5;28;43mself\u001B[39;49m\u001B[38;5;241;43m.\u001B[39;49m\u001B[43mmax_val\u001B[49m\u001B[43m,\u001B[49m\u001B[43m \u001B[49m\u001B[38;5;28;43mself\u001B[39;49m\u001B[38;5;241;43m.\u001B[39;49m\u001B[43mdevice\u001B[49m\u001B[43m,\u001B[49m\u001B[43m \u001B[49m\u001B[38;5;28;43mself\u001B[39;49m\u001B[38;5;241;43m.\u001B[39;49m\u001B[43mposition\u001B[49m\u001B[43m)\u001B[49m\n\u001B[0;32m     27\u001B[0m     \u001B[38;5;28;01mreturn\u001B[39;00m \u001B[38;5;28mself\u001B[39m\u001B[38;5;241m.\u001B[39mcurrent_graph\u001B[38;5;241m.\u001B[39mclone()\n\u001B[0;32m     28\u001B[0m \u001B[38;5;28;01melse\u001B[39;00m:\n",
      "File \u001B[1;32m~\\Documents\\skola\\PR\\Dimploma\\util.py:148\u001B[0m, in \u001B[0;36mgenerate_random_graph_add_method\u001B[1;34m(node_amount, max_edge_amount, edge_value_min, edge_value_max, device, position)\u001B[0m\n\u001B[0;32m    145\u001B[0m possibilities \u001B[38;5;241m=\u001B[39m torch\u001B[38;5;241m.\u001B[39marange(node_amount, device\u001B[38;5;241m=\u001B[39mdevice)\n\u001B[0;32m    147\u001B[0m \u001B[38;5;66;03m# filter out self loops\u001B[39;00m\n\u001B[1;32m--> 148\u001B[0m possibilities \u001B[38;5;241m=\u001B[39m possibilities[\u001B[43mpossibilities\u001B[49m\u001B[43m \u001B[49m\u001B[38;5;241;43m!=\u001B[39;49m\u001B[43m \u001B[49m\u001B[43mnode_from\u001B[49m]\n\u001B[0;32m    150\u001B[0m \u001B[38;5;66;03m# filter out already existing edges\u001B[39;00m\n\u001B[0;32m    151\u001B[0m banned_nodes1 \u001B[38;5;241m=\u001B[39m edge_index[edge_index[:, \u001B[38;5;241m0\u001B[39m] \u001B[38;5;241m==\u001B[39m node_from, \u001B[38;5;241m1\u001B[39m]\n",
      "\u001B[1;31mKeyboardInterrupt\u001B[0m: "
     ]
    }
   ],
   "execution_count": 7
  },
  {
   "metadata": {
    "ExecuteTime": {
     "end_time": "2025-04-25T22:18:54.523371Z",
     "start_time": "2025-04-25T22:18:54.340440Z"
    }
   },
   "cell_type": "code",
   "source": [
    "# default_path = 'results/correl/logits_6_n100_t100'\n",
    "default_path = 'results/correl/logits_100_n100_t100'\n",
    "# default_path = 'results/correl/corrs_np_n100_t100'\n",
    "default_path"
   ],
   "id": "20bf03e53b707d81",
   "outputs": [
    {
     "data": {
      "text/plain": [
       "'results/correl/logits_100_n100_t100'"
      ]
     },
     "execution_count": 8,
     "metadata": {},
     "output_type": "execute_result"
    }
   ],
   "execution_count": 8
  },
  {
   "metadata": {
    "ExecuteTime": {
     "end_time": "2025-04-25T22:18:55.226359Z",
     "start_time": "2025-04-25T22:18:55.038083Z"
    }
   },
   "cell_type": "code",
   "source": [
    "actions_gcn_df = pd.read_csv(f'{default_path}/gcn_actions.csv', index_col=0)\n",
    "actions_fcn_df = pd.read_csv(f'{default_path}/matrix_actions.csv', index_col=0)\n",
    "actions_hybrid_df = pd.read_csv(f'{default_path}/hybrid_actions.csv', index_col=0)\n",
    "logits_gcn = actions_gcn_df['correlation'].to_numpy()\n",
    "logits_hybrid = actions_hybrid_df['correlation'].to_numpy()\n",
    "logits_fcn = actions_fcn_df['correlation'].to_numpy()\n",
    "\n",
    "# actions_random_df = pd.read_csv(f'{default_path}/random_actions.csv', index_col=0)\n",
    "# degrees_df = pd.read_csv(f'{default_path}/degrees.csv', index_col=0)\n",
    "# logits_gcn"
   ],
   "id": "409c767373e507a7",
   "outputs": [],
   "execution_count": 9
  },
  {
   "metadata": {
    "ExecuteTime": {
     "end_time": "2025-04-25T22:21:48.347354Z",
     "start_time": "2025-04-25T22:21:48.129998Z"
    }
   },
   "cell_type": "code",
   "source": [
    "view_limit = 20\n",
    "view_limit_max = 30\n",
    "\n",
    "names = [f'G{i + view_limit}' for i in range(min(logits_gcn.shape[0], view_limit_max - view_limit))]\n",
    "names"
   ],
   "id": "ab3d02d2d0a625ac",
   "outputs": [
    {
     "data": {
      "text/plain": [
       "['G0', 'G1', 'G2', 'G3', 'G4', 'G5', 'G6', 'G7', 'G8', 'G9']"
      ]
     },
     "execution_count": 19,
     "metadata": {},
     "output_type": "execute_result"
    }
   ],
   "execution_count": 19
  },
  {
   "metadata": {
    "ExecuteTime": {
     "end_time": "2025-04-25T22:21:53.274907Z",
     "start_time": "2025-04-25T22:21:53.048833Z"
    }
   },
   "cell_type": "code",
   "source": [
    "# colors = ['orange', 'brown', 'yellow', 'red']\n",
    "# agent_names = ['GCN', 'Hybrid', 'FCN', 'Random']\n",
    "%matplotlib qt\n",
    "\n",
    "x = np.arange(len(names))\n",
    "width = 0.2\n",
    "\n",
    "\n",
    "plt.bar(x - width, abs(logits_gcn[view_limit:view_limit_max]), width, label='GCN')\n",
    "plt.bar(x, abs(logits_hybrid[view_limit:view_limit_max]), width, label='Hybrid')\n",
    "plt.bar(x + width, abs(logits_fcn[view_limit:view_limit_max]), width, label='FCN')\n",
    "\n",
    "# for i in range(len(correlations)):\n",
    "#     plt.bar(x + i * width, correlations[i], width=width, label=agent_names[i], color=colors[i])\n",
    "\n",
    "plt.ylim(0, 1)\n",
    "plt.xticks(x, names)\n",
    "plt.legend()\n",
    "plt.show()"
   ],
   "id": "f327cd361088b38e",
   "outputs": [],
   "execution_count": 20
  },
  {
   "metadata": {
    "ExecuteTime": {
     "end_time": "2025-04-25T22:20:04.497776Z",
     "start_time": "2025-04-25T22:20:04.297606Z"
    }
   },
   "cell_type": "code",
   "source": [
    "cor_gcn = abs(logits_gcn).mean()\n",
    "cor_hybrid = abs(logits_hybrid).mean()\n",
    "cor_fcn = abs(logits_fcn).mean()\n",
    "\n",
    "plt.bar(0, cor_gcn, label='GCN')\n",
    "plt.bar(1, cor_hybrid, label='Hybrid')\n",
    "plt.bar(2, cor_fcn, label='FCN')\n",
    "\n",
    "plt.ylim(0, 1)\n",
    "plt.xticks([0, 1, 2], ['GCN', 'Hybrid', 'FCN'])\n",
    "\n",
    "# plt.legend()\n",
    "plt.show()\n"
   ],
   "id": "46c573e054c347fa",
   "outputs": [],
   "execution_count": 18
  },
  {
   "metadata": {},
   "cell_type": "code",
   "outputs": [],
   "execution_count": null,
   "source": "",
   "id": "74bc97f070802d8"
  }
 ],
 "metadata": {
  "kernelspec": {
   "display_name": "Python 3",
   "language": "python",
   "name": "python3"
  },
  "language_info": {
   "codemirror_mode": {
    "name": "ipython",
    "version": 2
   },
   "file_extension": ".py",
   "mimetype": "text/x-python",
   "name": "python",
   "nbconvert_exporter": "python",
   "pygments_lexer": "ipython2",
   "version": "2.7.6"
  }
 },
 "nbformat": 4,
 "nbformat_minor": 5
}
