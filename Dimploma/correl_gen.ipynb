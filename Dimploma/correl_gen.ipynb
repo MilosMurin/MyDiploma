{
 "cells": [
  {
   "cell_type": "code",
   "id": "initial_id",
   "metadata": {
    "collapsed": true,
    "ExecuteTime": {
     "end_time": "2025-04-13T06:44:40.955542Z",
     "start_time": "2025-04-13T06:44:29.463382Z"
    }
   },
   "source": [
    "import torch\n",
    "\n",
    "import tr_util\n",
    "import util\n",
    "import pandas as pd\n",
    "import numpy as np\n",
    "import matplotlib.pyplot as plt\n",
    "from scipy.stats import pearsonr\n",
    "\n",
    "from Dimploma.EnvironmentTree import EnvInfo, MatrixEnvInfo, EnvMinimalTreeTwoStep\n",
    "from Dimploma.ppo_parallel_custom import Agent\n",
    "from Dimploma.utils.graph_provider import GraphProvider\n",
    "from Dimploma.utils.my_agent_base import RandomAgent\n",
    "from Dimploma.utils.testingResult import TestCorrelResult\n",
    "from zNetwork.my_gcn import GCN\n",
    "from zNetwork.fully_con import FCN\n",
    "from zNetwork.hybrid_gcn import HybridNetworkGlobal"
   ],
   "outputs": [],
   "execution_count": 1
  },
  {
   "metadata": {
    "ExecuteTime": {
     "end_time": "2025-04-13T06:44:44.841021Z",
     "start_time": "2025-04-13T06:44:44.657280Z"
    }
   },
   "cell_type": "code",
   "source": [
    "%load_ext autoreload\n",
    "%autoreload 2"
   ],
   "id": "f81a18d325a69931",
   "outputs": [],
   "execution_count": 2
  },
  {
   "metadata": {
    "ExecuteTime": {
     "end_time": "2025-04-13T17:47:36.139141Z",
     "start_time": "2025-04-13T17:47:35.597891Z"
    }
   },
   "cell_type": "code",
   "source": [
    "# Generate graphs of the given size\n",
    "node_amount = 50\n",
    "node_features = 2\n",
    "max_edge_amount = torch.sum(torch.arange(node_amount)).item()\n",
    "edge_amount = int(max_edge_amount*0.75)\n",
    "# edge_features = 2\n",
    "edge_features = None\n",
    "\n",
    "min_edge_val = 1\n",
    "max_edge_val = 10\n",
    "\n",
    "\n",
    "main_layers = 6\n",
    "main_lin_layers = 2\n",
    "p_layers = 2\n",
    "v_layers = 2\n",
    "\n",
    "use_argmax = False\n",
    "\n",
    "# if GCN\n",
    "use_catenation = False\n"
   ],
   "id": "e328c4c0bff82d57",
   "outputs": [],
   "execution_count": 120
  },
  {
   "metadata": {
    "ExecuteTime": {
     "end_time": "2025-04-13T19:05:46.042568Z",
     "start_time": "2025-04-13T19:05:45.784043Z"
    }
   },
   "cell_type": "code",
   "source": "max_edge_amount",
   "id": "f73aec3eae984e74",
   "outputs": [
    {
     "data": {
      "text/plain": [
       "1225"
      ]
     },
     "execution_count": 131,
     "metadata": {},
     "output_type": "execute_result"
    }
   ],
   "execution_count": 131
  },
  {
   "metadata": {
    "ExecuteTime": {
     "end_time": "2025-04-13T17:47:40.671212Z",
     "start_time": "2025-04-13T17:47:39.862056Z"
    }
   },
   "cell_type": "code",
   "source": [
    "graph_provider = GraphProvider(nodes=node_amount, edges=edge_amount, min_val=min_edge_val, max_val=max_edge_val)\n",
    "\n",
    "graph_env = EnvMinimalTreeTwoStep(EnvInfo(graph_provider))\n",
    "matrix_env = EnvMinimalTreeTwoStep(MatrixEnvInfo(graph_provider, edge_info=True, node_info=True))"
   ],
   "id": "101717659db88cb1",
   "outputs": [],
   "execution_count": 121
  },
  {
   "metadata": {
    "ExecuteTime": {
     "end_time": "2025-04-13T16:01:20.192759Z",
     "start_time": "2025-04-13T16:01:19.729852Z"
    }
   },
   "cell_type": "code",
   "source": [
    "\n",
    "loaded_graph = torch.load('graphs/graph23_n10_e33.pt', weights_only=False)\n",
    "graph_provider.set_fixed_graph(loaded_graph)"
   ],
   "id": "a3a762bf39e15089",
   "outputs": [],
   "execution_count": 94
  },
  {
   "metadata": {
    "ExecuteTime": {
     "end_time": "2025-04-13T17:47:45.323009Z",
     "start_time": "2025-04-13T17:47:44.716700Z"
    }
   },
   "cell_type": "code",
   "source": [
    "# Agents setup\n",
    "gcn_net = GCN(node_amount, node_features, use_catenation, main_layers, p_layers, v_layers, edge_dim=edge_features)\n",
    "matrix_net = FCN(node_amount, node_features, edge_amount, main_lin_layers, p_layers, v_layers, True, True)\n",
    "hybrid_net = HybridNetworkGlobal(node_features, node_amount, edge_dim=edge_features)\n",
    "\n",
    "gcn_agent = Agent(gcn_net, test=True)\n",
    "matrix_agent = Agent(matrix_net, test=True)\n",
    "hybrid_agent = Agent(hybrid_net, test=True)\n"
   ],
   "id": "57759e8b6e598014",
   "outputs": [],
   "execution_count": 122
  },
  {
   "metadata": {
    "ExecuteTime": {
     "end_time": "2025-04-13T17:48:37.847937Z",
     "start_time": "2025-04-13T17:48:37.345874Z"
    }
   },
   "cell_type": "code",
   "source": [
    "test_amount = 64\n",
    "# test_amount = 100\n",
    "graph_amount = 5\n",
    "# graph_amount = 10\n",
    "\n",
    "append = -1\n",
    "# append = 40\n",
    "\n",
    "\n",
    "tests = TestCorrelResult(node_amount, test_amount, graph_amount, append=append)\n",
    "\n",
    "random_uniform = RandomAgent()\n",
    "tests.addAgent('Random', random_uniform, 'red', multiple_tetst=True)\n",
    "tests.addAgent('GCN', gcn_agent, 'orange', multiple_tetst=True)\n",
    "tests.addAgent('Matrix', matrix_agent, 'magenta', multiple_tetst=True, special=True)\n",
    "tests.addAgent('Hybrid', hybrid_agent, 'yellow', multiple_tetst=True)\n"
   ],
   "id": "21f9aa11791845e7",
   "outputs": [],
   "execution_count": 123
  },
  {
   "metadata": {
    "ExecuteTime": {
     "end_time": "2025-04-13T18:04:26.689154Z",
     "start_time": "2025-04-13T17:48:38.786088Z"
    }
   },
   "cell_type": "code",
   "source": [
    "tests.setup('gcn6-1')\n",
    "tests.test(graph_env, matrix_env, use_argmax)"
   ],
   "id": "4a9ba20720441d0a",
   "outputs": [
    {
     "name": "stdout",
     "output_type": "stream",
     "text": [
      "Started tests\n",
      "Graph 0------------------------------\n",
      "Started tests for agent Random\n",
      "finished 10 tests for agent Random\n",
      "finished 20 tests for agent Random\n",
      "finished 30 tests for agent Random\n",
      "finished 40 tests for agent Random\n",
      "finished 50 tests for agent Random\n",
      "finished 60 tests for agent Random\n",
      "Finished all tests for agent Random\n",
      "Started tests for agent GCN\n",
      "finished 10 tests for agent GCN\n",
      "finished 20 tests for agent GCN\n",
      "finished 30 tests for agent GCN\n",
      "finished 40 tests for agent GCN\n",
      "finished 50 tests for agent GCN\n",
      "finished 60 tests for agent GCN\n",
      "Finished all tests for agent GCN\n",
      "Started tests for agent Matrix\n",
      "finished 10 tests for agent Matrix\n",
      "finished 20 tests for agent Matrix\n",
      "finished 30 tests for agent Matrix\n",
      "finished 40 tests for agent Matrix\n",
      "finished 50 tests for agent Matrix\n",
      "finished 60 tests for agent Matrix\n",
      "Finished all tests for agent Matrix\n",
      "Started tests for agent Hybrid\n",
      "finished 10 tests for agent Hybrid\n",
      "finished 20 tests for agent Hybrid\n",
      "finished 30 tests for agent Hybrid\n",
      "finished 40 tests for agent Hybrid\n",
      "finished 50 tests for agent Hybrid\n",
      "finished 60 tests for agent Hybrid\n",
      "Finished all tests for agent Hybrid\n",
      "Finished 1 tests for all agents\n",
      "Graph 1------------------------------\n",
      "Started tests for agent Random\n",
      "finished 10 tests for agent Random\n",
      "finished 20 tests for agent Random\n",
      "finished 30 tests for agent Random\n",
      "finished 40 tests for agent Random\n",
      "finished 50 tests for agent Random\n",
      "finished 60 tests for agent Random\n",
      "Finished all tests for agent Random\n",
      "Started tests for agent GCN\n",
      "finished 10 tests for agent GCN\n",
      "finished 20 tests for agent GCN\n",
      "finished 30 tests for agent GCN\n",
      "finished 40 tests for agent GCN\n",
      "finished 50 tests for agent GCN\n",
      "finished 60 tests for agent GCN\n",
      "Finished all tests for agent GCN\n",
      "Started tests for agent Matrix\n",
      "finished 10 tests for agent Matrix\n",
      "finished 20 tests for agent Matrix\n",
      "finished 30 tests for agent Matrix\n",
      "finished 40 tests for agent Matrix\n",
      "finished 50 tests for agent Matrix\n",
      "finished 60 tests for agent Matrix\n",
      "Finished all tests for agent Matrix\n",
      "Started tests for agent Hybrid\n",
      "finished 10 tests for agent Hybrid\n",
      "finished 20 tests for agent Hybrid\n",
      "finished 30 tests for agent Hybrid\n",
      "finished 40 tests for agent Hybrid\n",
      "finished 50 tests for agent Hybrid\n",
      "finished 60 tests for agent Hybrid\n",
      "Finished all tests for agent Hybrid\n",
      "Finished 2 tests for all agents\n",
      "Graph 2------------------------------\n",
      "Started tests for agent Random\n",
      "finished 10 tests for agent Random\n",
      "finished 20 tests for agent Random\n",
      "finished 30 tests for agent Random\n",
      "finished 40 tests for agent Random\n",
      "finished 50 tests for agent Random\n",
      "finished 60 tests for agent Random\n",
      "Finished all tests for agent Random\n",
      "Started tests for agent GCN\n",
      "finished 10 tests for agent GCN\n",
      "finished 20 tests for agent GCN\n",
      "finished 30 tests for agent GCN\n",
      "finished 40 tests for agent GCN\n",
      "finished 50 tests for agent GCN\n",
      "finished 60 tests for agent GCN\n",
      "Finished all tests for agent GCN\n",
      "Started tests for agent Matrix\n",
      "finished 10 tests for agent Matrix\n",
      "finished 20 tests for agent Matrix\n",
      "finished 30 tests for agent Matrix\n",
      "finished 40 tests for agent Matrix\n",
      "finished 50 tests for agent Matrix\n",
      "finished 60 tests for agent Matrix\n",
      "Finished all tests for agent Matrix\n",
      "Started tests for agent Hybrid\n",
      "finished 10 tests for agent Hybrid\n",
      "finished 20 tests for agent Hybrid\n",
      "finished 30 tests for agent Hybrid\n",
      "finished 40 tests for agent Hybrid\n",
      "finished 50 tests for agent Hybrid\n",
      "finished 60 tests for agent Hybrid\n",
      "Finished all tests for agent Hybrid\n",
      "Finished 3 tests for all agents\n",
      "Graph 3------------------------------\n",
      "Started tests for agent Random\n",
      "finished 10 tests for agent Random\n",
      "finished 20 tests for agent Random\n",
      "finished 30 tests for agent Random\n",
      "finished 40 tests for agent Random\n",
      "finished 50 tests for agent Random\n",
      "finished 60 tests for agent Random\n",
      "Finished all tests for agent Random\n",
      "Started tests for agent GCN\n",
      "finished 10 tests for agent GCN\n",
      "finished 20 tests for agent GCN\n",
      "finished 30 tests for agent GCN\n",
      "finished 40 tests for agent GCN\n",
      "finished 50 tests for agent GCN\n",
      "finished 60 tests for agent GCN\n",
      "Finished all tests for agent GCN\n",
      "Started tests for agent Matrix\n",
      "finished 10 tests for agent Matrix\n",
      "finished 20 tests for agent Matrix\n",
      "finished 30 tests for agent Matrix\n",
      "finished 40 tests for agent Matrix\n",
      "finished 50 tests for agent Matrix\n",
      "finished 60 tests for agent Matrix\n",
      "Finished all tests for agent Matrix\n",
      "Started tests for agent Hybrid\n",
      "finished 10 tests for agent Hybrid\n",
      "finished 20 tests for agent Hybrid\n",
      "finished 30 tests for agent Hybrid\n",
      "finished 40 tests for agent Hybrid\n",
      "finished 50 tests for agent Hybrid\n",
      "finished 60 tests for agent Hybrid\n",
      "Finished all tests for agent Hybrid\n",
      "Finished 4 tests for all agents\n",
      "Graph 4------------------------------\n",
      "Started tests for agent Random\n",
      "finished 10 tests for agent Random\n",
      "finished 20 tests for agent Random\n",
      "finished 30 tests for agent Random\n",
      "finished 40 tests for agent Random\n",
      "finished 50 tests for agent Random\n",
      "finished 60 tests for agent Random\n",
      "Finished all tests for agent Random\n",
      "Started tests for agent GCN\n",
      "finished 10 tests for agent GCN\n",
      "finished 20 tests for agent GCN\n",
      "finished 30 tests for agent GCN\n",
      "finished 40 tests for agent GCN\n",
      "finished 50 tests for agent GCN\n",
      "finished 60 tests for agent GCN\n",
      "Finished all tests for agent GCN\n",
      "Started tests for agent Matrix\n",
      "finished 10 tests for agent Matrix\n",
      "finished 20 tests for agent Matrix\n",
      "finished 30 tests for agent Matrix\n",
      "finished 40 tests for agent Matrix\n",
      "finished 50 tests for agent Matrix\n",
      "finished 60 tests for agent Matrix\n",
      "Finished all tests for agent Matrix\n",
      "Started tests for agent Hybrid\n",
      "finished 10 tests for agent Hybrid\n",
      "finished 20 tests for agent Hybrid\n",
      "finished 30 tests for agent Hybrid\n",
      "finished 40 tests for agent Hybrid\n",
      "finished 50 tests for agent Hybrid\n",
      "finished 60 tests for agent Hybrid\n",
      "Finished all tests for agent Hybrid\n",
      "Finished 5 tests for all agents\n",
      "Ended tests\n"
     ]
    }
   ],
   "execution_count": 124
  },
  {
   "metadata": {
    "ExecuteTime": {
     "end_time": "2025-04-13T18:04:53.638771Z",
     "start_time": "2025-04-13T18:04:52.935182Z"
    }
   },
   "cell_type": "code",
   "source": [
    "# default_path = 'results/correl/actions_n100_t100'\n",
    "default_path = 'results/correl/gcn6-1_n50_t64'\n",
    "# default_path = 'results/correl/actions_n10_t100'\n",
    "default_path"
   ],
   "id": "20bf03e53b707d81",
   "outputs": [
    {
     "data": {
      "text/plain": [
       "'results/correl/gcn6-1_n50_t64'"
      ]
     },
     "execution_count": 125,
     "metadata": {},
     "output_type": "execute_result"
    }
   ],
   "execution_count": 125
  },
  {
   "metadata": {
    "ExecuteTime": {
     "end_time": "2025-04-13T18:04:54.857865Z",
     "start_time": "2025-04-13T18:04:54.379262Z"
    }
   },
   "cell_type": "code",
   "source": [
    "actions_gcn_df = pd.read_csv(f'{default_path}/gcn_actions.csv', index_col=0)\n",
    "actions_fcn_df = pd.read_csv(f'{default_path}/matrix_actions.csv', index_col=0)\n",
    "actions_hybrid_df = pd.read_csv(f'{default_path}/hybrid_actions.csv', index_col=0)\n",
    "actions_random_df = pd.read_csv(f'{default_path}/random_actions.csv', index_col=0)\n",
    "degrees_df = pd.read_csv(f'{default_path}/degrees.csv', index_col=0)\n",
    "degrees_df"
   ],
   "id": "409c767373e507a7",
   "outputs": [
    {
     "data": {
      "text/plain": [
       "        0   1   2   3   4   5   6   7   8   9  ...  40  41  42  43  44  45  \\\n",
       "graph                                          ...                           \n",
       "0      38  37  36  37  37  42  36  40  31  31  ...  39  40  31  38  37  28   \n",
       "1      34  41  37  39  36  39  38  36  38  35  ...  42  43  34  35  37  40   \n",
       "2      36  29  44  35  40  42  44  40  35  32  ...  35  35  38  37  39  40   \n",
       "3      33  40  31  40  36  42  35  36  38  35  ...  40  33  28  36  37  36   \n",
       "4      43  37  43  42  39  29  36  34  31  46  ...  37  31  46  37  35  33   \n",
       "\n",
       "       46  47  48  49  \n",
       "graph                  \n",
       "0      37  36  34  31  \n",
       "1      43  39  42  30  \n",
       "2      34  32  39  35  \n",
       "3      36  42  34  38  \n",
       "4      37  28  36  46  \n",
       "\n",
       "[5 rows x 50 columns]"
      ],
      "text/html": [
       "<div>\n",
       "<style scoped>\n",
       "    .dataframe tbody tr th:only-of-type {\n",
       "        vertical-align: middle;\n",
       "    }\n",
       "\n",
       "    .dataframe tbody tr th {\n",
       "        vertical-align: top;\n",
       "    }\n",
       "\n",
       "    .dataframe thead th {\n",
       "        text-align: right;\n",
       "    }\n",
       "</style>\n",
       "<table border=\"1\" class=\"dataframe\">\n",
       "  <thead>\n",
       "    <tr style=\"text-align: right;\">\n",
       "      <th></th>\n",
       "      <th>0</th>\n",
       "      <th>1</th>\n",
       "      <th>2</th>\n",
       "      <th>3</th>\n",
       "      <th>4</th>\n",
       "      <th>5</th>\n",
       "      <th>6</th>\n",
       "      <th>7</th>\n",
       "      <th>8</th>\n",
       "      <th>9</th>\n",
       "      <th>...</th>\n",
       "      <th>40</th>\n",
       "      <th>41</th>\n",
       "      <th>42</th>\n",
       "      <th>43</th>\n",
       "      <th>44</th>\n",
       "      <th>45</th>\n",
       "      <th>46</th>\n",
       "      <th>47</th>\n",
       "      <th>48</th>\n",
       "      <th>49</th>\n",
       "    </tr>\n",
       "    <tr>\n",
       "      <th>graph</th>\n",
       "      <th></th>\n",
       "      <th></th>\n",
       "      <th></th>\n",
       "      <th></th>\n",
       "      <th></th>\n",
       "      <th></th>\n",
       "      <th></th>\n",
       "      <th></th>\n",
       "      <th></th>\n",
       "      <th></th>\n",
       "      <th></th>\n",
       "      <th></th>\n",
       "      <th></th>\n",
       "      <th></th>\n",
       "      <th></th>\n",
       "      <th></th>\n",
       "      <th></th>\n",
       "      <th></th>\n",
       "      <th></th>\n",
       "      <th></th>\n",
       "      <th></th>\n",
       "    </tr>\n",
       "  </thead>\n",
       "  <tbody>\n",
       "    <tr>\n",
       "      <th>0</th>\n",
       "      <td>38</td>\n",
       "      <td>37</td>\n",
       "      <td>36</td>\n",
       "      <td>37</td>\n",
       "      <td>37</td>\n",
       "      <td>42</td>\n",
       "      <td>36</td>\n",
       "      <td>40</td>\n",
       "      <td>31</td>\n",
       "      <td>31</td>\n",
       "      <td>...</td>\n",
       "      <td>39</td>\n",
       "      <td>40</td>\n",
       "      <td>31</td>\n",
       "      <td>38</td>\n",
       "      <td>37</td>\n",
       "      <td>28</td>\n",
       "      <td>37</td>\n",
       "      <td>36</td>\n",
       "      <td>34</td>\n",
       "      <td>31</td>\n",
       "    </tr>\n",
       "    <tr>\n",
       "      <th>1</th>\n",
       "      <td>34</td>\n",
       "      <td>41</td>\n",
       "      <td>37</td>\n",
       "      <td>39</td>\n",
       "      <td>36</td>\n",
       "      <td>39</td>\n",
       "      <td>38</td>\n",
       "      <td>36</td>\n",
       "      <td>38</td>\n",
       "      <td>35</td>\n",
       "      <td>...</td>\n",
       "      <td>42</td>\n",
       "      <td>43</td>\n",
       "      <td>34</td>\n",
       "      <td>35</td>\n",
       "      <td>37</td>\n",
       "      <td>40</td>\n",
       "      <td>43</td>\n",
       "      <td>39</td>\n",
       "      <td>42</td>\n",
       "      <td>30</td>\n",
       "    </tr>\n",
       "    <tr>\n",
       "      <th>2</th>\n",
       "      <td>36</td>\n",
       "      <td>29</td>\n",
       "      <td>44</td>\n",
       "      <td>35</td>\n",
       "      <td>40</td>\n",
       "      <td>42</td>\n",
       "      <td>44</td>\n",
       "      <td>40</td>\n",
       "      <td>35</td>\n",
       "      <td>32</td>\n",
       "      <td>...</td>\n",
       "      <td>35</td>\n",
       "      <td>35</td>\n",
       "      <td>38</td>\n",
       "      <td>37</td>\n",
       "      <td>39</td>\n",
       "      <td>40</td>\n",
       "      <td>34</td>\n",
       "      <td>32</td>\n",
       "      <td>39</td>\n",
       "      <td>35</td>\n",
       "    </tr>\n",
       "    <tr>\n",
       "      <th>3</th>\n",
       "      <td>33</td>\n",
       "      <td>40</td>\n",
       "      <td>31</td>\n",
       "      <td>40</td>\n",
       "      <td>36</td>\n",
       "      <td>42</td>\n",
       "      <td>35</td>\n",
       "      <td>36</td>\n",
       "      <td>38</td>\n",
       "      <td>35</td>\n",
       "      <td>...</td>\n",
       "      <td>40</td>\n",
       "      <td>33</td>\n",
       "      <td>28</td>\n",
       "      <td>36</td>\n",
       "      <td>37</td>\n",
       "      <td>36</td>\n",
       "      <td>36</td>\n",
       "      <td>42</td>\n",
       "      <td>34</td>\n",
       "      <td>38</td>\n",
       "    </tr>\n",
       "    <tr>\n",
       "      <th>4</th>\n",
       "      <td>43</td>\n",
       "      <td>37</td>\n",
       "      <td>43</td>\n",
       "      <td>42</td>\n",
       "      <td>39</td>\n",
       "      <td>29</td>\n",
       "      <td>36</td>\n",
       "      <td>34</td>\n",
       "      <td>31</td>\n",
       "      <td>46</td>\n",
       "      <td>...</td>\n",
       "      <td>37</td>\n",
       "      <td>31</td>\n",
       "      <td>46</td>\n",
       "      <td>37</td>\n",
       "      <td>35</td>\n",
       "      <td>33</td>\n",
       "      <td>37</td>\n",
       "      <td>28</td>\n",
       "      <td>36</td>\n",
       "      <td>46</td>\n",
       "    </tr>\n",
       "  </tbody>\n",
       "</table>\n",
       "<p>5 rows × 50 columns</p>\n",
       "</div>"
      ]
     },
     "execution_count": 126,
     "metadata": {},
     "output_type": "execute_result"
    }
   ],
   "execution_count": 126
  },
  {
   "metadata": {
    "ExecuteTime": {
     "end_time": "2025-04-13T18:04:59.248712Z",
     "start_time": "2025-04-13T18:04:59.002556Z"
    }
   },
   "cell_type": "code",
   "source": "torch.tensor(degrees_df.iloc[0].to_numpy()).unique().shape",
   "id": "5428eb45728004b2",
   "outputs": [
    {
     "data": {
      "text/plain": [
       "torch.Size([15])"
      ]
     },
     "execution_count": 127,
     "metadata": {},
     "output_type": "execute_result"
    }
   ],
   "execution_count": 127
  },
  {
   "metadata": {
    "ExecuteTime": {
     "end_time": "2025-04-13T18:05:04.526020Z",
     "start_time": "2025-04-13T18:05:03.959074Z"
    }
   },
   "cell_type": "code",
   "source": [
    "correlations_gcn = []\n",
    "\n",
    "first_graph = 0\n",
    "# first_graph = 40\n",
    "\n",
    "for i, row in actions_gcn_df.iterrows():\n",
    "    corr, _ = pearsonr(degrees_df.iloc[i - first_graph], row)\n",
    "    correlations_gcn.append(abs(corr))\n",
    "correlations_fcn = []\n",
    "for i, row in actions_fcn_df.iterrows():\n",
    "    corr, _ = pearsonr(degrees_df.iloc[i - first_graph], row)\n",
    "    correlations_fcn.append(abs(corr))\n",
    "correlations_hybrid = []\n",
    "for i, row in actions_hybrid_df.iterrows():\n",
    "    corr, _ = pearsonr(degrees_df.iloc[i - first_graph], row)\n",
    "    correlations_hybrid.append(abs(corr))\n",
    "correlations_random = []\n",
    "for i, row in actions_random_df.iterrows():\n",
    "    corr, _ = pearsonr(degrees_df.iloc[i - first_graph], row)\n",
    "    correlations_random.append(abs(corr))\n",
    "# names"
   ],
   "id": "2daf8809f41f8774",
   "outputs": [],
   "execution_count": 128
  },
  {
   "metadata": {
    "ExecuteTime": {
     "end_time": "2025-04-13T18:05:14.460952Z",
     "start_time": "2025-04-13T18:05:14.180344Z"
    }
   },
   "cell_type": "code",
   "source": [
    "view_limit = 0\n",
    "view_limit_max = 10\n",
    "# correlations = [correlations_gcn, correlations_hybrid, correlations_fcn, correlations_random]\n",
    "correlations = [correlations_gcn[view_limit:view_limit_max], correlations_hybrid[view_limit:view_limit_max], correlations_fcn[view_limit:view_limit_max], correlations_random[view_limit:view_limit_max]]\n",
    "names = [f'Graph{i + view_limit}' for i in range(len(correlations[0]))]\n",
    "correlations"
   ],
   "id": "ab3d02d2d0a625ac",
   "outputs": [
    {
     "data": {
      "text/plain": [
       "[[0.2591299380827639,\n",
       "  0.05694327246335029,\n",
       "  0.0989728533080588,\n",
       "  0.011309732477958946,\n",
       "  0.4626111312707353],\n",
       " [0.2657504703379112,\n",
       "  0.048069519970492254,\n",
       "  0.18184755755521487,\n",
       "  0.13291799185052441,\n",
       "  0.329896066083756],\n",
       " [0.29176676277481833,\n",
       "  0.1606307198820762,\n",
       "  0.27893036656398645,\n",
       "  0.15439078336443143,\n",
       "  0.4402165299197881],\n",
       " [0.25315352777386957,\n",
       "  0.1589338366184675,\n",
       "  0.29674761472962496,\n",
       "  0.14777331500049284,\n",
       "  0.4775119744368534]]"
      ]
     },
     "execution_count": 129,
     "metadata": {},
     "output_type": "execute_result"
    }
   ],
   "execution_count": 129
  },
  {
   "metadata": {
    "ExecuteTime": {
     "end_time": "2025-04-13T18:05:29.866538Z",
     "start_time": "2025-04-13T18:05:29.383530Z"
    }
   },
   "cell_type": "code",
   "source": [
    "colors = ['orange', 'brown', 'yellow', 'red']\n",
    "agent_names = ['GCN', 'Hybrid', 'FCN', 'Random']\n",
    "\n",
    "x = np.arange(len(names))\n",
    "width = 0.2\n",
    "\n",
    "for i in range(len(correlations)):\n",
    "    plt.bar(x + i * width, correlations[i], width=width, label=agent_names[i], color=colors[i])\n",
    "\n",
    "plt.xticks(x + width, names)\n",
    "plt.legend()\n",
    "plt.show()"
   ],
   "id": "f327cd361088b38e",
   "outputs": [
    {
     "data": {
      "text/plain": [
       "<Figure size 640x480 with 1 Axes>"
      ],
      "image/png": "[encoded data removed]"
     },
     "metadata": {},
     "output_type": "display_data"
    }
   ],
   "execution_count": 130
  },
  {
   "metadata": {
    "ExecuteTime": {
     "end_time": "2025-04-13T15:16:22.450712Z",
     "start_time": "2025-04-13T15:16:22.276464Z"
    }
   },
   "cell_type": "code",
   "source": [
    "gr = torch.load('results/correl/actions_n10_t100/graphs/graph40', weights_only=False)\n",
    "util.get_out_edges(gr)"
   ],
   "id": "8415656b99e33648",
   "outputs": [
    {
     "data": {
      "text/plain": [
       "tensor([8, 8, 6, 5, 7, 8, 7, 6, 6, 5], dtype=torch.int32)"
      ]
     },
     "execution_count": 34,
     "metadata": {},
     "output_type": "execute_result"
    }
   ],
   "execution_count": 34
  },
  {
   "metadata": {},
   "cell_type": "code",
   "outputs": [],
   "execution_count": null,
   "source": "",
   "id": "74bc97f070802d8"
  }
 ],
 "metadata": {
  "kernelspec": {
   "display_name": "Python 3",
   "language": "python",
   "name": "python3"
  },
  "language_info": {
   "codemirror_mode": {
    "name": "ipython",
    "version": 2
   },
   "file_extension": ".py",
   "mimetype": "text/x-python",
   "name": "python",
   "nbconvert_exporter": "python",
   "pygments_lexer": "ipython2",
   "version": "2.7.6"
  }
 },
 "nbformat": 4,
 "nbformat_minor": 5
}
