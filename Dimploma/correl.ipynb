{
 "cells": [
  {
   "cell_type": "code",
   "id": "initial_id",
   "metadata": {
    "collapsed": true,
    "ExecuteTime": {
     "end_time": "2025-04-25T22:32:01.048471Z",
     "start_time": "2025-04-25T22:31:56.171943Z"
    }
   },
   "source": [
    "import torch\n",
    "\n",
    "import os\n",
    "import tr_util\n",
    "import util\n",
    "import pandas as pd\n",
    "import numpy as np\n",
    "import matplotlib.pyplot as plt\n",
    "from scipy.stats import pearsonr"
   ],
   "outputs": [],
   "execution_count": 1
  },
  {
   "metadata": {
    "ExecuteTime": {
     "end_time": "2025-04-25T22:32:01.217363Z",
     "start_time": "2025-04-25T22:32:01.053990Z"
    }
   },
   "cell_type": "code",
   "source": [
    "%load_ext autoreload\n",
    "%autoreload 2"
   ],
   "id": "32e1be135718ca36",
   "outputs": [],
   "execution_count": 2
  },
  {
   "metadata": {
    "ExecuteTime": {
     "end_time": "2025-04-25T22:34:41.733415Z",
     "start_time": "2025-04-25T22:34:41.477088Z"
    }
   },
   "cell_type": "code",
   "source": [
    "# default_path = 'results/min_tree_ppo/node/'\n",
    "default_path = 'results/min_tree_ppo/node_cuda/'\n",
    "agent_path = '250411_1419#n10_e33_g23_g_3-2h'\n",
    "correl_path = f'{default_path}{agent_path}'"
   ],
   "id": "a4cabd19a0ce8c5",
   "outputs": [],
   "execution_count": 19
  },
  {
   "metadata": {
    "ExecuteTime": {
     "end_time": "2025-04-25T22:34:42.602006Z",
     "start_time": "2025-04-25T22:34:42.292947Z"
    }
   },
   "cell_type": "code",
   "source": [
    "actions_df = pd.read_csv(f'{correl_path}/actions_debug.csv', index_col=0)\n",
    "graph = torch.load(f'{correl_path}/graph.pt', weights_only=False)\n",
    "# graph = torch.load(f'graphs/graph50_n50_e1225_corr.pt', weights_only=False)\n",
    "util.show_data(graph)\n",
    "actions_df"
   ],
   "id": "5004afd5bfa8350c",
   "outputs": [
    {
     "data": {
      "text/plain": [
       "        0    1    2    3    4    5   6    7    8    9\n",
       "iter                                                 \n",
       "0     107  128  140   88   96  123  93   99  143  135\n",
       "1     105  118  149   83   95  123  92  133  140  114\n",
       "2     112  110  149   88   93  131  91  119  135  124\n",
       "3     113  135  134   93   89  122  85  114  133  134\n",
       "4     111  114  140   86  103  109  97  109  144  139\n",
       "...   ...  ...  ...  ...  ...  ...  ..  ...  ...  ...\n",
       "995   101  133  139   93   96  115  88  112  146  129\n",
       "996   107  118  125   94  101  120  86  119  154  128\n",
       "997   122  113  128   89   99  124  87  129  135  126\n",
       "998   111  122  140  104   95  120  91  112  133  124\n",
       "999   107  131  133   90   93  128  87  116  144  123\n",
       "\n",
       "[1000 rows x 10 columns]"
      ],
      "text/html": [
       "<div>\n",
       "<style scoped>\n",
       "    .dataframe tbody tr th:only-of-type {\n",
       "        vertical-align: middle;\n",
       "    }\n",
       "\n",
       "    .dataframe tbody tr th {\n",
       "        vertical-align: top;\n",
       "    }\n",
       "\n",
       "    .dataframe thead th {\n",
       "        text-align: right;\n",
       "    }\n",
       "</style>\n",
       "<table border=\"1\" class=\"dataframe\">\n",
       "  <thead>\n",
       "    <tr style=\"text-align: right;\">\n",
       "      <th></th>\n",
       "      <th>0</th>\n",
       "      <th>1</th>\n",
       "      <th>2</th>\n",
       "      <th>3</th>\n",
       "      <th>4</th>\n",
       "      <th>5</th>\n",
       "      <th>6</th>\n",
       "      <th>7</th>\n",
       "      <th>8</th>\n",
       "      <th>9</th>\n",
       "    </tr>\n",
       "    <tr>\n",
       "      <th>iter</th>\n",
       "      <th></th>\n",
       "      <th></th>\n",
       "      <th></th>\n",
       "      <th></th>\n",
       "      <th></th>\n",
       "      <th></th>\n",
       "      <th></th>\n",
       "      <th></th>\n",
       "      <th></th>\n",
       "      <th></th>\n",
       "    </tr>\n",
       "  </thead>\n",
       "  <tbody>\n",
       "    <tr>\n",
       "      <th>0</th>\n",
       "      <td>107</td>\n",
       "      <td>128</td>\n",
       "      <td>140</td>\n",
       "      <td>88</td>\n",
       "      <td>96</td>\n",
       "      <td>123</td>\n",
       "      <td>93</td>\n",
       "      <td>99</td>\n",
       "      <td>143</td>\n",
       "      <td>135</td>\n",
       "    </tr>\n",
       "    <tr>\n",
       "      <th>1</th>\n",
       "      <td>105</td>\n",
       "      <td>118</td>\n",
       "      <td>149</td>\n",
       "      <td>83</td>\n",
       "      <td>95</td>\n",
       "      <td>123</td>\n",
       "      <td>92</td>\n",
       "      <td>133</td>\n",
       "      <td>140</td>\n",
       "      <td>114</td>\n",
       "    </tr>\n",
       "    <tr>\n",
       "      <th>2</th>\n",
       "      <td>112</td>\n",
       "      <td>110</td>\n",
       "      <td>149</td>\n",
       "      <td>88</td>\n",
       "      <td>93</td>\n",
       "      <td>131</td>\n",
       "      <td>91</td>\n",
       "      <td>119</td>\n",
       "      <td>135</td>\n",
       "      <td>124</td>\n",
       "    </tr>\n",
       "    <tr>\n",
       "      <th>3</th>\n",
       "      <td>113</td>\n",
       "      <td>135</td>\n",
       "      <td>134</td>\n",
       "      <td>93</td>\n",
       "      <td>89</td>\n",
       "      <td>122</td>\n",
       "      <td>85</td>\n",
       "      <td>114</td>\n",
       "      <td>133</td>\n",
       "      <td>134</td>\n",
       "    </tr>\n",
       "    <tr>\n",
       "      <th>4</th>\n",
       "      <td>111</td>\n",
       "      <td>114</td>\n",
       "      <td>140</td>\n",
       "      <td>86</td>\n",
       "      <td>103</td>\n",
       "      <td>109</td>\n",
       "      <td>97</td>\n",
       "      <td>109</td>\n",
       "      <td>144</td>\n",
       "      <td>139</td>\n",
       "    </tr>\n",
       "    <tr>\n",
       "      <th>...</th>\n",
       "      <td>...</td>\n",
       "      <td>...</td>\n",
       "      <td>...</td>\n",
       "      <td>...</td>\n",
       "      <td>...</td>\n",
       "      <td>...</td>\n",
       "      <td>...</td>\n",
       "      <td>...</td>\n",
       "      <td>...</td>\n",
       "      <td>...</td>\n",
       "    </tr>\n",
       "    <tr>\n",
       "      <th>995</th>\n",
       "      <td>101</td>\n",
       "      <td>133</td>\n",
       "      <td>139</td>\n",
       "      <td>93</td>\n",
       "      <td>96</td>\n",
       "      <td>115</td>\n",
       "      <td>88</td>\n",
       "      <td>112</td>\n",
       "      <td>146</td>\n",
       "      <td>129</td>\n",
       "    </tr>\n",
       "    <tr>\n",
       "      <th>996</th>\n",
       "      <td>107</td>\n",
       "      <td>118</td>\n",
       "      <td>125</td>\n",
       "      <td>94</td>\n",
       "      <td>101</td>\n",
       "      <td>120</td>\n",
       "      <td>86</td>\n",
       "      <td>119</td>\n",
       "      <td>154</td>\n",
       "      <td>128</td>\n",
       "    </tr>\n",
       "    <tr>\n",
       "      <th>997</th>\n",
       "      <td>122</td>\n",
       "      <td>113</td>\n",
       "      <td>128</td>\n",
       "      <td>89</td>\n",
       "      <td>99</td>\n",
       "      <td>124</td>\n",
       "      <td>87</td>\n",
       "      <td>129</td>\n",
       "      <td>135</td>\n",
       "      <td>126</td>\n",
       "    </tr>\n",
       "    <tr>\n",
       "      <th>998</th>\n",
       "      <td>111</td>\n",
       "      <td>122</td>\n",
       "      <td>140</td>\n",
       "      <td>104</td>\n",
       "      <td>95</td>\n",
       "      <td>120</td>\n",
       "      <td>91</td>\n",
       "      <td>112</td>\n",
       "      <td>133</td>\n",
       "      <td>124</td>\n",
       "    </tr>\n",
       "    <tr>\n",
       "      <th>999</th>\n",
       "      <td>107</td>\n",
       "      <td>131</td>\n",
       "      <td>133</td>\n",
       "      <td>90</td>\n",
       "      <td>93</td>\n",
       "      <td>128</td>\n",
       "      <td>87</td>\n",
       "      <td>116</td>\n",
       "      <td>144</td>\n",
       "      <td>123</td>\n",
       "    </tr>\n",
       "  </tbody>\n",
       "</table>\n",
       "<p>1000 rows × 10 columns</p>\n",
       "</div>"
      ]
     },
     "execution_count": 20,
     "metadata": {},
     "output_type": "execute_result"
    }
   ],
   "execution_count": 20
  },
  {
   "metadata": {
    "ExecuteTime": {
     "end_time": "2025-04-25T22:34:48.226493Z",
     "start_time": "2025-04-25T22:34:47.983441Z"
    }
   },
   "cell_type": "code",
   "source": [
    "degrees = util.get_out_edges(graph)\n",
    "torch.stack([graph.x[:, 0], degrees])"
   ],
   "id": "7a6d372ee48e3684",
   "outputs": [
    {
     "data": {
      "text/plain": [
       "tensor([[0., 1., 2., 3., 4., 5., 6., 7., 8., 9.],\n",
       "        [6., 7., 9., 4., 5., 7., 4., 7., 9., 8.]])"
      ]
     },
     "execution_count": 21,
     "metadata": {},
     "output_type": "execute_result"
    }
   ],
   "execution_count": 21
  },
  {
   "metadata": {
    "ExecuteTime": {
     "end_time": "2025-04-25T22:34:48.534329Z",
     "start_time": "2025-04-25T22:34:48.274128Z"
    }
   },
   "cell_type": "code",
   "source": [
    "\n",
    "degrees.unique().shape"
   ],
   "id": "860a39d7b956120c",
   "outputs": [
    {
     "data": {
      "text/plain": [
       "torch.Size([6])"
      ]
     },
     "execution_count": 22,
     "metadata": {},
     "output_type": "execute_result"
    }
   ],
   "execution_count": 22
  },
  {
   "metadata": {
    "ExecuteTime": {
     "end_time": "2025-04-25T22:40:18.225211Z",
     "start_time": "2025-04-25T22:40:17.175874Z"
    }
   },
   "cell_type": "code",
   "source": [
    "%matplotlib qt\n",
    "\n",
    "correlations = []\n",
    "for _, row in actions_df.iterrows():\n",
    "    corr, _ = pearsonr(degrees, row)\n",
    "    correlations.append(corr)\n",
    "plt.ylim([0,1])\n",
    "plt.plot(correlations)"
   ],
   "id": "4f9462d6d35e2a52",
   "outputs": [
    {
     "data": {
      "text/plain": [
       "[<matplotlib.lines.Line2D at 0x202830adfd0>]"
      ]
     },
     "execution_count": 24,
     "metadata": {},
     "output_type": "execute_result"
    }
   ],
   "execution_count": 24
  },
  {
   "metadata": {
    "ExecuteTime": {
     "end_time": "2025-04-16T22:40:40.648114Z",
     "start_time": "2025-04-16T22:40:40.385097Z"
    }
   },
   "cell_type": "code",
   "source": "correlations[0]",
   "id": "36975c1270223741",
   "outputs": [
    {
     "data": {
      "text/plain": [
       "0.8643048128565578"
      ]
     },
     "execution_count": 21,
     "metadata": {},
     "output_type": "execute_result"
    }
   ],
   "execution_count": 21
  }
 ],
 "metadata": {
  "kernelspec": {
   "display_name": "Python 3",
   "language": "python",
   "name": "python3"
  },
  "language_info": {
   "codemirror_mode": {
    "name": "ipython",
    "version": 2
   },
   "file_extension": ".py",
   "mimetype": "text/x-python",
   "name": "python",
   "nbconvert_exporter": "python",
   "pygments_lexer": "ipython2",
   "version": "2.7.6"
  }
 },
 "nbformat": 4,
 "nbformat_minor": 5
}
